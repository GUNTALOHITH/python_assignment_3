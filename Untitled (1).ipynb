{
 "cells": [
  {
   "cell_type": "code",
   "execution_count": 1,
   "id": "fce9675b-2b11-4265-a503-168c77fc913f",
   "metadata": {},
   "outputs": [],
   "source": [
    "#Basic If-Else Statements:"
   ]
  },
  {
   "cell_type": "code",
   "execution_count": 26,
   "id": "40b153a0-f87d-4269-8c8f-3c0a9af690d9",
   "metadata": {},
   "outputs": [
    {
     "name": "stdin",
     "output_type": "stream",
     "text": [
      "Enter a number: -2\n"
     ]
    },
    {
     "name": "stdout",
     "output_type": "stream",
     "text": [
      "Entered number is negative\n"
     ]
    }
   ],
   "source": [
    "#1. Write a Python program to check if a given number is positive or negative.\n",
    "n = int(input(\"Enter a number:\"))\n",
    "if n>0 :\n",
    "    print(\"Entered number is positive\")\n",
    "else :\n",
    "    print(\"Entered number is negative\")"
   ]
  },
  {
   "cell_type": "code",
   "execution_count": 27,
   "id": "e5c8af9e-157b-4a1e-b632-85883e68469d",
   "metadata": {},
   "outputs": [
    {
     "name": "stdin",
     "output_type": "stream",
     "text": [
      "Enter the age of a person: 19\n"
     ]
    },
    {
     "name": "stdout",
     "output_type": "stream",
     "text": [
      "person is eligible to vote\n"
     ]
    }
   ],
   "source": [
    "#2. Create a program that determines if a person is eligible to vote based on their age.\n",
    "age = int(input(\"Enter the age of a person:\"))\n",
    "if age>=18:\n",
    "    print(\"person is eligible to vote\")\n",
    "else:\n",
    "    print(\"person is not eligible to vote\")"
   ]
  },
  {
   "cell_type": "code",
   "execution_count": 13,
   "id": "29d7650e-1cb6-4e56-89ff-402b7384f9bd",
   "metadata": {},
   "outputs": [
    {
     "name": "stdin",
     "output_type": "stream",
     "text": [
      "Enter a number1: 3\n",
      "Enter a number2: 7\n"
     ]
    },
    {
     "name": "stdout",
     "output_type": "stream",
     "text": [
      "7 is maximum\n"
     ]
    }
   ],
   "source": [
    "#3. Develop a program to find the maximum of two numbers using if-else statements.\n",
    "n1 = int(input(\"Enter a number1:\"))\n",
    "n2 = int(input(\"Enter a number2:\"))\n",
    "if n1>n2:\n",
    "    print(n1, \"is maximum\")\n",
    "else:\n",
    "    print(n2 , \"is maximum\")\n",
    "    "
   ]
  },
  {
   "cell_type": "code",
   "execution_count": 14,
   "id": "eff9e424-c26b-4f4e-842f-794b66b1cb2b",
   "metadata": {},
   "outputs": [
    {
     "name": "stdin",
     "output_type": "stream",
     "text": [
      "Enter the year: 2024\n"
     ]
    },
    {
     "name": "stdout",
     "output_type": "stream",
     "text": [
      "2024 is a leap year\n"
     ]
    }
   ],
   "source": [
    "#4. Write a Python script to classify a given year as a leap year or not.\n",
    "year = int(input(\"Enter the year:\"))\n",
    "if (year%4 == 0 and year%100 != 0)or(year%100 == 0 and year%400 == 0):\n",
    "    print(year, \"is a leap year\")\n",
    "else:\n",
    "    print(year, \"is not a leap year\")"
   ]
  },
  {
   "cell_type": "code",
   "execution_count": 17,
   "id": "cfc9adf9-0f6a-4037-afb9-35258f60e553",
   "metadata": {},
   "outputs": [
    {
     "name": "stdin",
     "output_type": "stream",
     "text": [
      "Enter a character: i\n"
     ]
    },
    {
     "name": "stdout",
     "output_type": "stream",
     "text": [
      "The given character is vowel\n"
     ]
    }
   ],
   "source": [
    "#5. Create a program that checks whether a character is a vowel or a consonant.\n",
    "character = input(\"Enter a character:\")\n",
    "if character in \"AEIOUaeiou\" :\n",
    "    print(\"The given character is vowel\")\n",
    "else:\n",
    "    print(\"The given character is consonant\")"
   ]
  },
  {
   "cell_type": "code",
   "execution_count": 19,
   "id": "9818864a-cfb0-401f-b3a3-206ba11f34ce",
   "metadata": {},
   "outputs": [
    {
     "name": "stdin",
     "output_type": "stream",
     "text": [
      "Enter a number: 7\n"
     ]
    },
    {
     "name": "stdout",
     "output_type": "stream",
     "text": [
      "The given number is odd\n"
     ]
    }
   ],
   "source": [
    "#6. Implement a program to determine whether a given number is even or odd.\n",
    "n = int(input(\"Enter a number:\"))\n",
    "if n%2== 0 :\n",
    "    print(\"The given number is even\")\n",
    "else:\n",
    "    print(\"The given number is odd\")"
   ]
  },
  {
   "cell_type": "code",
   "execution_count": 21,
   "id": "de64957e-d1f9-4c98-aefe-54c26053bad7",
   "metadata": {},
   "outputs": [
    {
     "name": "stdin",
     "output_type": "stream",
     "text": [
      "Enter a number: -9\n"
     ]
    },
    {
     "name": "stdout",
     "output_type": "stream",
     "text": [
      "9\n"
     ]
    }
   ],
   "source": [
    "#7. Write a Python function to calculate the absolute value of a number without using the `abs()` function\n",
    "n = int(input(\"Enter a number:\"))\n",
    "if n>0:\n",
    "    print(n)\n",
    "else:\n",
    "    print(-n)"
   ]
  },
  {
   "cell_type": "code",
   "execution_count": 32,
   "id": "5e187c1e-0edf-42fa-a858-3f2354bb1fdd",
   "metadata": {},
   "outputs": [
    {
     "name": "stdin",
     "output_type": "stream",
     "text": [
      "Enter the number 3\n",
      "Enter the number 6\n",
      "Enter the number 1\n"
     ]
    },
    {
     "name": "stdout",
     "output_type": "stream",
     "text": [
      "6 is the largest number\n"
     ]
    }
   ],
   "source": [
    "#8. Develop a program that determines the largest of three given numbers using if-else statements.\n",
    "n1 = int(input(\"Enter the number\"))\n",
    "n2 = int(input(\"Enter the number\"))\n",
    "n3 = int(input(\"Enter the number\"))\n",
    "largest = n1\n",
    "if n2>largest:\n",
    "    largest = n2\n",
    "if n3>largest:\n",
    "    largest = n3\n",
    "print(largest ,\"is the largest number\")\n",
    "    "
   ]
  },
  {
   "cell_type": "code",
   "execution_count": 23,
   "id": "61172cf1-78b5-4217-a690-2d93a0e20751",
   "metadata": {},
   "outputs": [
    {
     "name": "stdin",
     "output_type": "stream",
     "text": [
      "Enter a string: madam\n"
     ]
    },
    {
     "name": "stdout",
     "output_type": "stream",
     "text": [
      "Given string is palindrome\n"
     ]
    }
   ],
   "source": [
    "#9. Create a program that checks if a given string is a palindrome.\n",
    "a = input(\"Enter a string:\")\n",
    "b = a[::-1]\n",
    "if a == b:\n",
    "    print(\"Given string is palindrome\")\n",
    "else:\n",
    "    print(\"Given string is not a palindrome\")"
   ]
  },
  {
   "cell_type": "code",
   "execution_count": 28,
   "id": "cd4e2b6a-aac2-4805-8a76-6fef30dd6b1e",
   "metadata": {},
   "outputs": [
    {
     "name": "stdin",
     "output_type": "stream",
     "text": [
      "Enter the marks 60\n"
     ]
    },
    {
     "name": "stdout",
     "output_type": "stream",
     "text": [
      "pass\n"
     ]
    }
   ],
   "source": [
    "#10. Write a Python program to calculate the grade based on a student's score.\n",
    "marks = int(input(\"Enter the marks\"))\n",
    "if marks >40:\n",
    "    print(\"pass\")\n",
    "else:\n",
    "    print(\"fail\")\n",
    "\n",
    "    "
   ]
  },
  {
   "cell_type": "code",
   "execution_count": 25,
   "id": "a9b6c3ac-88b2-43ae-917d-63df4e0080fb",
   "metadata": {},
   "outputs": [],
   "source": [
    "#Nested If-Else Statements:"
   ]
  },
  {
   "cell_type": "code",
   "execution_count": 33,
   "id": "24e3f689-dfd0-4be9-bc44-af994688a794",
   "metadata": {},
   "outputs": [
    {
     "name": "stdin",
     "output_type": "stream",
     "text": [
      "Enter the number 3\n",
      "Enter the number 6\n",
      "Enter the number 9\n"
     ]
    },
    {
     "name": "stdout",
     "output_type": "stream",
     "text": [
      "9 is the largest\n"
     ]
    }
   ],
   "source": [
    "#11. Write a program to find the largest among three numbers using nested if-else statements.\n",
    "n1 = int(input(\"Enter the number\"))\n",
    "n2 = int(input(\"Enter the number\"))\n",
    "n3 = int(input(\"Enter the number\"))\n",
    "if n1>n3:\n",
    "    if n1>n2:\n",
    "        print(n1, \"is the laregest\")\n",
    "    else:\n",
    "        print(n2,\"is the largest\")\n",
    "else:\n",
    "    print(n3,\"is the largest\")"
   ]
  },
  {
   "cell_type": "code",
   "execution_count": 36,
   "id": "c1a70369-d7c1-4dce-a041-a61f1fe3eeba",
   "metadata": {},
   "outputs": [
    {
     "name": "stdin",
     "output_type": "stream",
     "text": [
      "Enter the side length 4\n",
      "Enter the side length 4\n",
      "Enter the side length 5\n"
     ]
    },
    {
     "name": "stdout",
     "output_type": "stream",
     "text": [
      "It is a isosceles triangle\n"
     ]
    }
   ],
   "source": [
    "#12. Implement a program to determine if a triangle is equilateral, isosceles, or scalene.\n",
    "s1 = int(input(\"Enter the side length\"))\n",
    "s2 = int(input(\"Enter the side length\"))\n",
    "s3 = int(input(\"Enter the side length\"))\n",
    "if s1==s2:\n",
    "    if s1==s3:\n",
    "        print(\"It is a equilateral triangle\")\n",
    "    else:\n",
    "        print(\"It is a isosceles triangle\")\n",
    "else:\n",
    "    print(\"It is a scalene triangle\")"
   ]
  },
  {
   "cell_type": "code",
   "execution_count": 37,
   "id": "8e71b6ba-e46f-427d-9a84-7fc6674727d6",
   "metadata": {},
   "outputs": [
    {
     "name": "stdin",
     "output_type": "stream",
     "text": [
      "Enter the year 2000\n"
     ]
    },
    {
     "name": "stdout",
     "output_type": "stream",
     "text": [
      "It is a leap year and a century year\n"
     ]
    }
   ],
   "source": [
    "#13. Develop a program that checks if a year is a leap year and also if it is a century year.\n",
    "year = int(input(\"Enter the year\"))\n",
    "if year%4 == 0 :\n",
    "    if year%100 == 0:\n",
    "        print(\"It is a leap year and a century year\")\n",
    "    else:\n",
    "        print(\"It is a leap year and not a century year\")\n",
    "else:\n",
    "    print(\"It is not a leap year\")\n"
   ]
  },
  {
   "cell_type": "code",
   "execution_count": 38,
   "id": "7629f51d-bbf1-41e3-8bf5-b71700e35ced",
   "metadata": {},
   "outputs": [
    {
     "name": "stdin",
     "output_type": "stream",
     "text": [
      "Enter the number: -6\n"
     ]
    },
    {
     "name": "stdout",
     "output_type": "stream",
     "text": [
      "Entered number is negative\n"
     ]
    }
   ],
   "source": [
    "#14. Write a Python script to determine if a number is positive, negative, or zero.\n",
    "n = int(input(\"Enter the number:\"))\n",
    "if n>0:\n",
    "    if n== 0:\n",
    "        print(\"Entered number is 0\")\n",
    "    else:\n",
    "        print(\"Entered number is positive\")\n",
    "else:\n",
    "    print(\"Entered number is negative\")\n"
   ]
  },
  {
   "cell_type": "code",
   "execution_count": 40,
   "id": "e9a31729-b782-4778-a2c7-d6131b910460",
   "metadata": {},
   "outputs": [
    {
     "name": "stdin",
     "output_type": "stream",
     "text": [
      "Enter a age: 16\n"
     ]
    },
    {
     "name": "stdout",
     "output_type": "stream",
     "text": [
      "Person is a teenager\n"
     ]
    }
   ],
   "source": [
    "#15. Create a program to check if a person is a teenager (between 13 and 19 years old).\n",
    "n = int(input(\"Enter a age:\"))\n",
    "if (n>=13 and n<=19):\n",
    "    print(\"Person is a teenager\")\n",
    "else:\n",
    "    print(\"Person is not a teenager\")\n"
   ]
  },
  {
   "cell_type": "code",
   "execution_count": 41,
   "id": "c53b905e-1e08-4e60-a7eb-47abffdbcef2",
   "metadata": {},
   "outputs": [
    {
     "name": "stdin",
     "output_type": "stream",
     "text": [
      "Enter the angle: 101\n"
     ]
    },
    {
     "name": "stdout",
     "output_type": "stream",
     "text": [
      "It is a obtuse angled\n"
     ]
    }
   ],
   "source": [
    "#16. Develop a program that determines the type of angle based on its measure (acute, obtuse, or right).\n",
    "n = int(input(\"Enter the angle:\"))\n",
    "if (n>0 and n<=90):\n",
    "    if n==90:\n",
    "        print(\"It is a right angled\")\n",
    "    else:\n",
    "        print(\"It is a acute angled\")\n",
    "else:\n",
    "    print(\"It is a obtuse angled\")"
   ]
  },
  {
   "cell_type": "code",
   "execution_count": 46,
   "id": "8fbfb700-36f6-44b6-b824-a30e6da86068",
   "metadata": {},
   "outputs": [
    {
     "name": "stdin",
     "output_type": "stream",
     "text": [
      "Enter the coefficient a:  1\n",
      "Enter the coefficient b:  -3\n",
      "Enter the coefficient c:  2\n"
     ]
    },
    {
     "name": "stdout",
     "output_type": "stream",
     "text": [
      "The roots are real and distinct: 2.0 and 1.0\n"
     ]
    }
   ],
   "source": [
    "#17. Write a Python program to calculate the roots of a quadratic equation.\n",
    "import math\n",
    "\n",
    "a = float(input(\"Enter the coefficient a: \"))\n",
    "b = float(input(\"Enter the coefficient b: \"))\n",
    "c = float(input(\"Enter the coefficient c: \"))\n",
    "\n",
    "d = (b**2) - (4*a*c)\n",
    "\n",
    "if d> 0:\n",
    "    if d == 0:\n",
    "        r = -b / (2*a)\n",
    "        print(\"There is one real and double root:\" ,r)\n",
    "    else:\n",
    "        r1 = (-b + math.sqrt(d)) / (2*a)\n",
    "        r2 = (-b - math.sqrt(d)) / (2*a)\n",
    "        print(\"The roots are real and distinct:\", r1,\"and\",r2)\n",
    "else:\n",
    "    print(\"The roots are complex:\")\n"
   ]
  },
  {
   "cell_type": "code",
   "execution_count": 54,
   "id": "7a7f3aac-8534-4dc8-bdf7-0e581272991b",
   "metadata": {},
   "outputs": [
    {
     "name": "stdin",
     "output_type": "stream",
     "text": [
      "Enter a number (1 for Monday, 2 for Tuesday, etc.):  6\n"
     ]
    },
    {
     "name": "stdout",
     "output_type": "stream",
     "text": [
      "The day corresponding to the number 6 is Saturday\n"
     ]
    }
   ],
   "source": [
    "#18. Implement a program to determine the day of the week based on a user-provided number (1 for Monday, 2\n",
    "#for Tuesday, etc.).\n",
    "day_number = int(input(\"Enter a number (1 for Monday, 2 for Tuesday, etc.): \"))\n",
    "\n",
    "if day_number == 1:\n",
    "    day_name = \"Monday\"\n",
    "if day_number == 2:\n",
    "    day_name = \"Tuesday\"\n",
    "if day_number == 3:\n",
    "    day_name = \"Wednesday\"\n",
    "if day_number == 4:\n",
    "    day_name = \"Thursday\"\n",
    "if day_number == 5:\n",
    "    day_name = \"Friday\"\n",
    "if day_number == 6:\n",
    "    day_name = \"Saturday\"\n",
    "if day_number == 7:\n",
    "    day_name = \"Sunday\"\n",
    "\n",
    "if not day_name:\n",
    "    day_name = \"Invalid day number\"\n",
    "\n",
    "print(\"The day corresponding to the number\",day_number, \"is\" ,day_name)\n",
    "\n",
    "    "
   ]
  },
  {
   "cell_type": "code",
   "execution_count": 56,
   "id": "5c284fa7-50ef-45b2-907e-d7b005fcd090",
   "metadata": {},
   "outputs": [
    {
     "name": "stdin",
     "output_type": "stream",
     "text": [
      "Enter the year 2000\n"
     ]
    },
    {
     "name": "stdout",
     "output_type": "stream",
     "text": [
      "It is a leap year and divisible by 400\n"
     ]
    }
   ],
   "source": [
    "#19. Create a program that determines if a year is a leap year and also if it is evenly divisible by 400.\n",
    "year = int(input(\"Enter the year\"))\n",
    "if year%4==0:\n",
    "    if year%400 == 0:\n",
    "        print(\"It is a leap year and divisible by 400\")\n",
    "    else:\n",
    "        print(\"It is a leap year\")\n",
    "else:\n",
    "    print(\"It is not a leap year\")"
   ]
  },
  {
   "cell_type": "code",
   "execution_count": 57,
   "id": "5a0e5dad-12c6-42ec-8199-64a450e12f4a",
   "metadata": {},
   "outputs": [
    {
     "name": "stdin",
     "output_type": "stream",
     "text": [
      "Enter a number:  5\n"
     ]
    },
    {
     "name": "stdout",
     "output_type": "stream",
     "text": [
      "5 is a prime number.\n"
     ]
    }
   ],
   "source": [
    "#20. Develop a program that checks if a given number is prime or not using nested if-else statements.\n",
    "n = int(input(\"Enter a number: \"))\n",
    "\n",
    "if n > 1:\n",
    "    for i in range(2, int(n**0.5) + 1):\n",
    "        if n % i == 0:\n",
    "            print(n,\"is not a prime number.\")\n",
    "            break\n",
    "    else:\n",
    "        print(n,\"is a prime number.\")\n",
    "else:\n",
    "    print(n,\"is not a prime number.\")\n"
   ]
  },
  {
   "cell_type": "code",
   "execution_count": null,
   "id": "2c67fed1-18a1-453e-a10c-3a171422fdea",
   "metadata": {},
   "outputs": [],
   "source": [
    "# Elif Statements:"
   ]
  },
  {
   "cell_type": "code",
   "execution_count": 58,
   "id": "417e25b9-61d5-4315-9a62-993008d0fca5",
   "metadata": {},
   "outputs": [
    {
     "name": "stdin",
     "output_type": "stream",
     "text": [
      "Enter the marks 78\n"
     ]
    },
    {
     "name": "stdout",
     "output_type": "stream",
     "text": [
      "good\n"
     ]
    }
   ],
   "source": [
    "# 21. Write a Python program to assign grades based on different ranges of scores using elif statements.\n",
    "marks = int(input(\"Enter the marks\"))\n",
    "if marks in range(81,100):\n",
    "    print(\"very good\")\n",
    "elif marks in range(61,80):\n",
    "    print(\"good\")\n",
    "elif marks in range(41,60):\n",
    "    print(\"average\")\n",
    "elif marks<40:\n",
    "    print(\"fail\")\n"
   ]
  },
  {
   "cell_type": "code",
   "execution_count": 60,
   "id": "a0a5a103-3eab-43ed-af73-e5fadee898b3",
   "metadata": {},
   "outputs": [
    {
     "name": "stdin",
     "output_type": "stream",
     "text": [
      "Enter the angle: 99\n"
     ]
    },
    {
     "name": "stdout",
     "output_type": "stream",
     "text": [
      "It is a obtuse angled triangle\n"
     ]
    }
   ],
   "source": [
    "# 22. Implement a program to determine the type of a triangle based on its angles.\n",
    "n = int(input(\"Enter the angle:\"))\n",
    "if (n<90):\n",
    "        print(\"It is a acute angled triangle\")\n",
    "elif (n==90):\n",
    "        print(\"It is a right angled triangle\")\n",
    "elif (n>90)and(n<180):\n",
    "    print(\"It is a obtuse angled triangle\")\n"
   ]
  },
  {
   "cell_type": "code",
   "execution_count": 61,
   "id": "d86ef715-7895-4e12-b893-ff7a184fb27a",
   "metadata": {},
   "outputs": [
    {
     "name": "stdin",
     "output_type": "stream",
     "text": [
      "Enter weight (kg):  57\n",
      "Enter height (m):  1.77\n"
     ]
    },
    {
     "name": "stdout",
     "output_type": "stream",
     "text": [
      "Your BMI is 18.194005553959588 and you are categorized as Underweight\n"
     ]
    }
   ],
   "source": [
    "# 23. Develop a program to categorize a given person's BMI into underweight, normal, overweight, or obese using\n",
    "# elif statements.\n",
    "weight = float(input(\"Enter weight (kg): \"))\n",
    "height = float(input(\"Enter height (m): \"))\n",
    "\n",
    "bmi = weight / (height ** 2)\n",
    "\n",
    "if bmi < 18.5:\n",
    "    category = \"Underweight\"\n",
    "elif 18.5 <= bmi < 25:\n",
    "    category = \"Normal\"\n",
    "elif 25 <= bmi < 30:\n",
    "    category = \"Overweight\"\n",
    "else:\n",
    "    category = \"Obese\"\n",
    "\n",
    "print(\"Your BMI is\" ,bmi, \"and you are categorized as\",category)\n"
   ]
  },
  {
   "cell_type": "code",
   "execution_count": 64,
   "id": "e56f835f-78a8-40d3-9673-ced98e5ca554",
   "metadata": {},
   "outputs": [
    {
     "name": "stdin",
     "output_type": "stream",
     "text": [
      "Enter the number: 0\n"
     ]
    },
    {
     "name": "stdout",
     "output_type": "stream",
     "text": [
      "Entered number is zero\n"
     ]
    }
   ],
   "source": [
    "# 24. Create a program that determines whether a given number is positive, negative, or zero using elif\n",
    "# statements.\n",
    "n = int(input(\"Enter the number:\"))\n",
    "if n>0:\n",
    "    print(\"Entered number is positive\")\n",
    "    \n",
    "elif n== 0:\n",
    "    print(\"Entered number is zero\")\n",
    "    \n",
    "else:\n",
    "    print(\"Entered number is negative\")\n",
    "\n"
   ]
  },
  {
   "cell_type": "code",
   "execution_count": 75,
   "id": "af18b65b-c78f-4328-80e3-f3ed39945790",
   "metadata": {},
   "outputs": [
    {
     "name": "stdin",
     "output_type": "stream",
     "text": [
      "Enter the character: J\n"
     ]
    },
    {
     "name": "stdout",
     "output_type": "stream",
     "text": [
      "The character is Uppercase\n"
     ]
    }
   ],
   "source": [
    "# 25. Write a Python script to determine the type of a character (uppercase, lowercase, or special) using elif\n",
    "# statements.\n",
    "string = input(\"Enter the character:\")\n",
    "if string.isalpha():\n",
    "    if string.isupper():\n",
    "        print(\"The character is Uppercase\")\n",
    "    elif string.islower():\n",
    "        print(\"The character is Lowercase\")\n",
    "else:\n",
    "    print(\"The character belongs to special \")\n",
    "    "
   ]
  },
  {
   "cell_type": "code",
   "execution_count": 76,
   "id": "dfe0c658-93c4-49eb-ab6e-81b76ce22c1a",
   "metadata": {},
   "outputs": [
    {
     "name": "stdin",
     "output_type": "stream",
     "text": [
      "enter the selling price 120\n",
      "enter the cost price 100\n"
     ]
    },
    {
     "name": "stdout",
     "output_type": "stream",
     "text": [
      "The profit gained by the shopkepper : 20\n"
     ]
    }
   ],
   "source": [
    "# 26. Implement a program to calculate the discounted price based on different purchase amounts using elif\n",
    "# statements.\n",
    "sp = int(input(\"enter the selling price\"))\n",
    "cp = int(input(\"enter the cost price\"))\n",
    "if sp>cp:\n",
    "    print(\"The profit gained by the shopkepper :\" , sp-cp)\n",
    "elif sp<cp:\n",
    "    print(\"The loss incurred by the shopkepper:\" , cp-sp)"
   ]
  },
  {
   "cell_type": "code",
   "execution_count": 78,
   "id": "21ff7d57-775d-4cee-9f03-29ac93aced22",
   "metadata": {},
   "outputs": [
    {
     "name": "stdin",
     "output_type": "stream",
     "text": [
      "Enter electricity consumption in kWh:  34\n"
     ]
    },
    {
     "name": "stdout",
     "output_type": "stream",
     "text": [
      "The electricity bill for 34.0 kWh is: ₹17.00\n"
     ]
    }
   ],
   "source": [
    "# 27. Develop a program to calculate the electricity bill based on different consumption slabs using elif\n",
    "# statements.\n",
    "consumption = float(input(\"Enter electricity consumption in kWh: \"))\n",
    "\n",
    "\n",
    "RATE_SLAB_1 = 0.5   \n",
    "RATE_SLAB_2 = 0.7   \n",
    "RATE_SLAB_3 = 0.9   \n",
    "\n",
    "\n",
    "SLAB_1_LIMIT = 100\n",
    "SLAB_2_LIMIT = 300\n",
    "\n",
    "\n",
    "bill = 0\n",
    "\n",
    "if consumption <= SLAB_1_LIMIT:\n",
    "    bill = consumption * RATE_SLAB_1\n",
    "else:\n",
    "    bill = SLAB_1_LIMIT * RATE_SLAB_1\n",
    "    if consumption <= SLAB_2_LIMIT:\n",
    "        bill += (consumption - SLAB_1_LIMIT) * RATE_SLAB_2\n",
    "    else:\n",
    "        bill += (SLAB_2_LIMIT - SLAB_1_LIMIT) * RATE_SLAB_2\n",
    "        bill += (consumption - SLAB_2_LIMIT) * RATE_SLAB_3\n",
    "\n",
    "print(f\"The electricity bill for {consumption} kWh is: ₹{bill:.2f}\")\n"
   ]
  },
  {
   "cell_type": "code",
   "execution_count": 81,
   "id": "158f152f-52a0-492c-9948-020443154c3f",
   "metadata": {},
   "outputs": [
    {
     "name": "stdin",
     "output_type": "stream",
     "text": [
      "Enter the first angle:  90\n",
      "Enter the second angle:  90\n",
      "Enter the third angle:  90\n",
      "Enter the fourth angle:  90\n",
      "Enter the length of side 1:  5\n",
      "Enter the length of side 2:  8\n",
      "Enter the length of side 3:  5\n",
      "Enter the length of side 4:  8\n"
     ]
    },
    {
     "name": "stdout",
     "output_type": "stream",
     "text": [
      "The quadrilateral is a rectangle.\n"
     ]
    }
   ],
   "source": [
    "# 28. Create a program to determine the type of quadrilateral based on its angles and sides using elif\n",
    "# statements.\n",
    "a1 = int(input(\"Enter the first angle: \"))\n",
    "a2 = int(input(\"Enter the second angle: \"))\n",
    "a3 = int(input(\"Enter the third angle: \"))\n",
    "a4 = int(input(\"Enter the fourth angle: \"))\n",
    "\n",
    "s1 = float(input(\"Enter the length of side 1: \"))\n",
    "s2 = float(input(\"Enter the length of side 2: \"))\n",
    "s3 = float(input(\"Enter the length of side 3: \"))\n",
    "s4 = float(input(\"Enter the length of side 4: \"))\n",
    "\n",
    "if a1 + a2 + a3 + a4 == 360:\n",
    "    if s1 == s2 == s3 == s4:\n",
    "        print(\"The quadrilateral is a square.\")\n",
    "    elif (s1 == s3) and (s2 == s4):\n",
    "        print(\"The quadrilateral is a rectangle.\")\n",
    "    else:\n",
    "        print(\"The quadrilateral is a general quadrilateral.\")\n",
    "else:\n",
    "    print(\"Invalid input. The angles should add up to 360 degrees.\")\n"
   ]
  },
  {
   "cell_type": "code",
   "execution_count": 83,
   "id": "0b9652f7-7314-4764-9cb7-3c3b2cc1d150",
   "metadata": {},
   "outputs": [
    {
     "name": "stdin",
     "output_type": "stream",
     "text": [
      "Enter the month: may\n"
     ]
    },
    {
     "name": "stdout",
     "output_type": "stream",
     "text": [
      "Season is summer\n"
     ]
    }
   ],
   "source": [
    "# 29. Write a Python script to determine the season based on a user-provided month using elif statements.\n",
    "month = input(\"Enter the month:\")\n",
    "\n",
    "if month in ['december', 'january', 'february']:\n",
    "    print(\"Season is winter\")\n",
    "elif month in ['march', 'april', 'may']:\n",
    "    print(\"Season is summer\")\n",
    "elif month in ['june', 'july', 'august']:\n",
    "    print(\"Season is rainy\")\n",
    "elif month in ['september', 'october', 'november']:\n",
    "    season = 'spring'\n",
    "else:\n",
    "    season = 'Invalid month'"
   ]
  },
  {
   "cell_type": "code",
   "execution_count": 89,
   "id": "b5ccd441-ea04-4856-877e-c985a8d6437f",
   "metadata": {},
   "outputs": [
    {
     "name": "stdin",
     "output_type": "stream",
     "text": [
      "Enter the year:  2024\n",
      "Enter the month: february\n"
     ]
    },
    {
     "name": "stdout",
     "output_type": "stream",
     "text": [
      "It is Leap year\n",
      "The month contain 29 days\n"
     ]
    }
   ],
   "source": [
    "# 30. Implement a program to determine the type of a year (leap or common) and month (30 or 31 days) using\n",
    "# elif statements.\n",
    "\n",
    "year = int(input(\"Enter the year: \"))\n",
    "month = input(\"Enter the month:\")\n",
    "\n",
    "if (year % 4 == 0 and year % 100 != 0) or (year % 400 == 0):\n",
    "    print(\"It is Leap year\")\n",
    "    year_type = \"Leap year\"\n",
    "else:\n",
    "    print(\"It is a common year\")\n",
    "    year_type = \"Common year\"\n",
    "\n",
    "if month in ['january', 'march', 'may', 'july', 'august', 'october', 'december']:\n",
    "    print(\"The month contain 31 days\")\n",
    "elif month in ['april', 'june', 'september', 'november']:\n",
    "    print(\"The month contain 30 days\")\n",
    "elif month == 'february':\n",
    "    if year_type == 'Leap year':\n",
    "        print(\"The month contain 29 days\")\n",
    "    else:\n",
    "        print(\"The month contains 28 days\")\n"
   ]
  },
  {
   "cell_type": "code",
   "execution_count": null,
   "id": "13b12e1b-2186-45a9-bce6-de2808288ba0",
   "metadata": {},
   "outputs": [],
   "source": [
    "# Basic Level:"
   ]
  },
  {
   "cell_type": "code",
   "execution_count": 90,
   "id": "41ff6f90-4b3d-453d-9e7e-8539a6076a01",
   "metadata": {},
   "outputs": [
    {
     "name": "stdin",
     "output_type": "stream",
     "text": [
      "Enter the number: 8\n"
     ]
    },
    {
     "name": "stdout",
     "output_type": "stream",
     "text": [
      "Entered number is positive\n"
     ]
    }
   ],
   "source": [
    "# 1. Write a Python program that checks if a given number is positive, negative, or zero.\n",
    "n = int(input(\"Enter the number:\"))\n",
    "if n>0:\n",
    "    print(\"Entered number is positive\")\n",
    "    \n",
    "elif n== 0:\n",
    "    print(\"Entered number is zero\")\n",
    "    \n",
    "else:\n",
    "    print(\"Entered number is negative\")\n"
   ]
  },
  {
   "cell_type": "code",
   "execution_count": 91,
   "id": "24bd48ba-c5d8-4c4f-8b10-cd963b4cfa98",
   "metadata": {},
   "outputs": [
    {
     "name": "stdin",
     "output_type": "stream",
     "text": [
      "Enter the age of a person: 19\n"
     ]
    },
    {
     "name": "stdout",
     "output_type": "stream",
     "text": [
      "person is eligible to vote\n"
     ]
    }
   ],
   "source": [
    "# 2. Create a program to determine if a person is eligible to vote based on their age.\n",
    "age = int(input(\"Enter the age of a person:\"))\n",
    "if age>=18:\n",
    "    print(\"person is eligible to vote\")\n",
    "elif (age<18)and(age>0):\n",
    "    print(\"person is not eligible to vote\")\n",
    "else:\n",
    "    print(\"Enter the valid age\")"
   ]
  },
  {
   "cell_type": "code",
   "execution_count": 92,
   "id": "f6208f8f-3942-4340-8f10-02c6b6a59dfb",
   "metadata": {},
   "outputs": [
    {
     "name": "stdin",
     "output_type": "stream",
     "text": [
      "Enter a number1: 8\n",
      "Enter a number2: 6\n"
     ]
    },
    {
     "name": "stdout",
     "output_type": "stream",
     "text": [
      "8 is maximum\n"
     ]
    }
   ],
   "source": [
    "# 3. Write a program to find the maximum of two given numbers using conditional statements.\n",
    "n1 = int(input(\"Enter a number1:\"))\n",
    "n2 = int(input(\"Enter a number2:\"))\n",
    "if n1>n2:\n",
    "    print(n1, \"is maximum\")\n",
    "else:\n",
    "    print(n2 , \"is maximum\")\n",
    "    "
   ]
  },
  {
   "cell_type": "code",
   "execution_count": 93,
   "id": "7a4998bc-81b4-4d5a-9a2f-de6ba398be15",
   "metadata": {},
   "outputs": [
    {
     "name": "stdin",
     "output_type": "stream",
     "text": [
      "Enter the marks 66\n"
     ]
    },
    {
     "name": "stdout",
     "output_type": "stream",
     "text": [
      "good\n"
     ]
    }
   ],
   "source": [
    "# 4. Develop a program that calculates the grade of a student based on their exam score.\n",
    "marks = int(input(\"Enter the marks\"))\n",
    "if marks in range(81,100):\n",
    "    print(\"very good\")\n",
    "elif marks in range(61,80):\n",
    "    print(\"good\")\n",
    "elif marks in range(41,60):\n",
    "    print(\"average\")\n",
    "elif marks<40:\n",
    "    print(\"fail\")"
   ]
  },
  {
   "cell_type": "code",
   "execution_count": 94,
   "id": "ddd2bfda-e42b-4a19-8fc2-76fe0a4cf611",
   "metadata": {},
   "outputs": [
    {
     "name": "stdin",
     "output_type": "stream",
     "text": [
      "Enter the year: 2024\n"
     ]
    },
    {
     "name": "stdout",
     "output_type": "stream",
     "text": [
      "2024 is a leap year\n"
     ]
    }
   ],
   "source": [
    "# 5. Create a program that checks if a year is a leap year or not.\n",
    "year = int(input(\"Enter the year:\"))\n",
    "if (year%4 == 0 and year%100 != 0)or(year%100 == 0 and year%400 == 0):\n",
    "    print(year, \"is a leap year\")\n",
    "else:\n",
    "    print(year, \"is not a leap year\")"
   ]
  },
  {
   "cell_type": "code",
   "execution_count": 95,
   "id": "0357a95e-a454-4271-beff-e3865dff9039",
   "metadata": {},
   "outputs": [
    {
     "name": "stdin",
     "output_type": "stream",
     "text": [
      "Enter the side length 5\n",
      "Enter the side length 4\n",
      "Enter the side length 6\n"
     ]
    },
    {
     "name": "stdout",
     "output_type": "stream",
     "text": [
      "It is a scalene triangle\n"
     ]
    }
   ],
   "source": [
    "# 6. Write a program to classify a triangle based on its sides' lengths.\n",
    "s1 = int(input(\"Enter the side length\"))\n",
    "s2 = int(input(\"Enter the side length\"))\n",
    "s3 = int(input(\"Enter the side length\"))\n",
    "if s1==s2:\n",
    "    if s1==s3:\n",
    "        print(\"It is a equilateral triangle\")\n",
    "    else:\n",
    "        print(\"It is a isosceles triangle\")\n",
    "else:\n",
    "    print(\"It is a scalene triangle\")\n"
   ]
  },
  {
   "cell_type": "code",
   "execution_count": 97,
   "id": "cc78534c-735f-4f92-8941-53258b6228d7",
   "metadata": {},
   "outputs": [
    {
     "name": "stdin",
     "output_type": "stream",
     "text": [
      "Enter the number1 7\n",
      "Enter the number2 9\n",
      "Enter the number3 1\n"
     ]
    },
    {
     "name": "stdout",
     "output_type": "stream",
     "text": [
      "9 is the largest\n"
     ]
    }
   ],
   "source": [
    "# 7. Build a program that determines the largest of three given numbers.\n",
    "n1 = int(input(\"Enter the number1\"))\n",
    "n2 = int(input(\"Enter the number2\"))\n",
    "n3 = int(input(\"Enter the number3\"))\n",
    "if n1>n3:\n",
    "    if n1>n2:\n",
    "        print(n1, \"is the laregest\")\n",
    "    else:\n",
    "        print(n2,\"is the largest\")\n",
    "else:\n",
    "    print(n3,\"is the largest\")"
   ]
  },
  {
   "cell_type": "code",
   "execution_count": 102,
   "id": "d25377b9-55a3-4605-9b80-be290c824084",
   "metadata": {},
   "outputs": [
    {
     "name": "stdin",
     "output_type": "stream",
     "text": [
      "Enter a character: I\n"
     ]
    },
    {
     "name": "stdout",
     "output_type": "stream",
     "text": [
      "The given character is vowel\n"
     ]
    }
   ],
   "source": [
    "# 8. Develop a program that checks whether a character is a vowel or a consonant.\n",
    "character = input(\"Enter a character:\")\n",
    "if character.isalpha():\n",
    "    if character in \"AEIOUaeiou\" :\n",
    "        print(\"The given character is vowel\")\n",
    "    else:\n",
    "        print(\"The given character is consonant\")\n",
    "else:\n",
    "    print(\"You have entered special characters\")"
   ]
  },
  {
   "cell_type": "code",
   "execution_count": 106,
   "id": "4268ac52-d4ca-40a1-9c7b-71f9edb87b64",
   "metadata": {},
   "outputs": [
    {
     "name": "stdin",
     "output_type": "stream",
     "text": [
      "Enter the number of items in your shopping cart:  3\n",
      "Enter the name of item 1:  shirt \n",
      "Enter the price of shirt : ₹ 500\n",
      "Enter the name of item 2:  pant\n",
      "Enter the price of pant: ₹ 1000\n",
      "Enter the name of item 3:  watch \n",
      "Enter the price of watch : ₹ 500\n"
     ]
    },
    {
     "name": "stdout",
     "output_type": "stream",
     "text": [
      "\n",
      "The total cost of your shopping cart after applying discounts is: ₹1800.00\n"
     ]
    }
   ],
   "source": [
    "# 9. Create a program to calculate the total cost of a shopping cart based on discounts.\n",
    "item_count = int(input(\"Enter the number of items in your shopping cart: \"))\n",
    "total_cost = 0\n",
    "\n",
    "for i in range(1, item_count + 1):\n",
    "    item_name = input(f\"Enter the name of item {i}: \")\n",
    "    item_price = float(input(f\"Enter the price of {item_name}: ₹\"))\n",
    "    \n",
    "    discount = 0.1 * item_price if item_price >= 100 else 0\n",
    "    \n",
    "    total_cost += item_price - discount\n",
    "\n",
    "print(f\"\\nThe total cost of your shopping cart after applying discounts is: ₹{total_cost:.2f}\")\n"
   ]
  },
  {
   "cell_type": "code",
   "execution_count": null,
   "id": "1e69dd07-b92a-4406-afda-6a7db47f863b",
   "metadata": {},
   "outputs": [
    {
     "name": "stdin",
     "output_type": "stream",
     "text": [
      "Enter a number: 6\n"
     ]
    },
    {
     "name": "stdout",
     "output_type": "stream",
     "text": [
      "The given number is even\n"
     ]
    }
   ],
   "source": [
    "# 10. Write a program that checks if a given number is even or odd.\n",
    "n = int(input(\"Enter a number:\"))\n",
    "if n%2== 0 :\n",
    "    print(\"The given number is even\")\n",
    "else:\n",
    "    print(\"The given number is odd\")\n"
   ]
  },
  {
   "cell_type": "code",
   "execution_count": null,
   "id": "d3532b30-bbe0-4129-b4f5-b5da6fea729d",
   "metadata": {},
   "outputs": [],
   "source": [
    "# Intermediate Level:"
   ]
  },
  {
   "cell_type": "code",
   "execution_count": 107,
   "id": "776d52eb-ef9d-4691-8281-851d9e3b255a",
   "metadata": {},
   "outputs": [
    {
     "name": "stdin",
     "output_type": "stream",
     "text": [
      "Enter the coefficient a:  1\n",
      "Enter the coefficient b:  3\n",
      "Enter the coefficient c:  2\n"
     ]
    },
    {
     "name": "stdout",
     "output_type": "stream",
     "text": [
      "The roots are real and distinct: -1.0 and -2.0\n"
     ]
    }
   ],
   "source": [
    "# 11. Write a program that calculates the roots of a quadratic equation .\n",
    "import math\n",
    "\n",
    "a = float(input(\"Enter the coefficient a: \"))\n",
    "b = float(input(\"Enter the coefficient b: \"))\n",
    "c = float(input(\"Enter the coefficient c: \"))\n",
    "\n",
    "d = (b**2) - (4*a*c)\n",
    "\n",
    "if d> 0:\n",
    "    if d == 0:\n",
    "        r = -b / (2*a)\n",
    "        print(\"There is one real and double root:\" ,r)\n",
    "    else:\n",
    "        r1 = (-b + math.sqrt(d)) / (2*a)\n",
    "        r2 = (-b - math.sqrt(d)) / (2*a)\n",
    "        print(\"The roots are real and distinct:\", r1,\"and\",r2)\n",
    "else:\n",
    "    print(\"The roots are complex:\")\n",
    "\n"
   ]
  },
  {
   "cell_type": "code",
   "execution_count": 108,
   "id": "e68620ac-8e64-4cde-9925-7e055540bb02",
   "metadata": {},
   "outputs": [
    {
     "name": "stdin",
     "output_type": "stream",
     "text": [
      "Enter a number (1 for Monday, 2 for Tuesday, etc.):  5\n"
     ]
    },
    {
     "name": "stdout",
     "output_type": "stream",
     "text": [
      "The day corresponding to the number 5 is Friday\n"
     ]
    }
   ],
   "source": [
    "# 12. Create a program that determines the day of the week based on the day number (1-7).\n",
    "day_number = int(input(\"Enter a number (1 for Monday, 2 for Tuesday, etc.): \"))\n",
    "\n",
    "if day_number == 1:\n",
    "    day_name = \"Monday\"\n",
    "if day_number == 2:\n",
    "    day_name = \"Tuesday\"\n",
    "if day_number == 3:\n",
    "    day_name = \"Wednesday\"\n",
    "if day_number == 4:\n",
    "    day_name = \"Thursday\"\n",
    "if day_number == 5:\n",
    "    day_name = \"Friday\"\n",
    "if day_number == 6:\n",
    "    day_name = \"Saturday\"\n",
    "if day_number == 7:\n",
    "    day_name = \"Sunday\"\n",
    "\n",
    "if not day_name:\n",
    "    day_name = \"Invalid day number\"\n",
    "\n",
    "print(\"The day corresponding to the number\",day_number, \"is\" ,day_name)\n",
    "\n"
   ]
  },
  {
   "cell_type": "code",
   "execution_count": 114,
   "id": "d466a649-b28f-4d73-bae5-87ae15910220",
   "metadata": {},
   "outputs": [
    {
     "data": {
      "text/plain": [
       "120"
      ]
     },
     "execution_count": 114,
     "metadata": {},
     "output_type": "execute_result"
    }
   ],
   "source": [
    "# 13. Develop a program that calculates the factorial of a given number using recursion.\n",
    "def fact(n):\n",
    "    if n==0 or n==1:\n",
    "        return 1\n",
    "    else:\n",
    "        return n*fact(n-1)\n",
    "fact(5)"
   ]
  },
  {
   "cell_type": "code",
   "execution_count": 119,
   "id": "57a1da32-f5f4-4337-894f-39f08c98fa4c",
   "metadata": {},
   "outputs": [
    {
     "name": "stdout",
     "output_type": "stream",
     "text": [
      "The largest number 30\n"
     ]
    }
   ],
   "source": [
    "# 14. Write a program to find the largest among three numbers without using the `max()` function.\n",
    "num1 = 10\n",
    "num2 = 20\n",
    "num3 = 30\n",
    "if (num1 > num2) and (num1 > num3):\n",
    "    largest = num1\n",
    "    print(\"The largest number\" , largest)\n",
    "elif (num2 > num1) and (num2 > num3):\n",
    "    largest = num2\n",
    "    print(\"The largest number\" , largest)\n",
    "else:\n",
    "    largest = num3\n",
    "    print(\"The largest number\" , largest)\n",
    "    \n"
   ]
  },
  {
   "cell_type": "code",
   "execution_count": 1,
   "id": "4c835d3b-be94-4264-a013-d9adb125e594",
   "metadata": {},
   "outputs": [
    {
     "name": "stdout",
     "output_type": "stream",
     "text": [
      "welcome to the atm machine!!\n",
      "Insert your card\n"
     ]
    },
    {
     "name": "stdin",
     "output_type": "stream",
     "text": [
      "select the task to perform: 1.withdraw , 2.deposit , 3.bank_balance 1\n",
      "Enter the pin number: 1234\n",
      "Enter the withdraw amount 500\n"
     ]
    },
    {
     "name": "stdout",
     "output_type": "stream",
     "text": [
      "The amount withdrawn successfully!!\n"
     ]
    }
   ],
   "source": [
    "# 15. Create a program that simulates a basic ATM transaction menu.\n",
    "bank_balance = 1000\n",
    "pin = 1234\n",
    "print(\"welcome to the atm machine!!\")\n",
    "print(\"Insert your card\")\n",
    "task = input(\"select the task to perform: 1.withdraw , 2.deposit , 3.bank_balance\")\n",
    "match task:\n",
    "    case\"1\":\n",
    "        atm_pin = int(input(\"Enter the pin number:\"))\n",
    "        if atm_pin == pin:\n",
    "            withdraw_amount = int(input(\"Enter the withdraw amount\"))\n",
    "            if bank_balance >= withdraw_amount:\n",
    "                print(\"The amount withdrawn successfully!!\")\n",
    "                bank_balance -= withdraw_amount\n",
    "            else:\n",
    "                print(\"There is insufficient funds\")\n",
    "        else:\n",
    "            print(\"The entered pin is wrong\")\n",
    "    case\"2\":\n",
    "        atm_pin = int(input(\"Enter the pin number:\"))\n",
    "        if atm_pin == pin:\n",
    "            deposit_amount = int(input(\"Enter the deposit amount\"))\n",
    "            print()\n",
    "            bank_balance += deposit_amount\n",
    "        else:\n",
    "            print(\"The entered pin is wrong\")\n",
    "    case\"3\":\n",
    "        print(\"The bankbalance is:\", bank_balance)\n"
   ]
  },
  {
   "cell_type": "code",
   "execution_count": 2,
   "id": "61be7b97-3b93-4ba8-a4b1-9eaed75b3ba7",
   "metadata": {},
   "outputs": [
    {
     "name": "stdin",
     "output_type": "stream",
     "text": [
      "Enter a string: madam\n"
     ]
    },
    {
     "name": "stdout",
     "output_type": "stream",
     "text": [
      "Given string is palindrome\n"
     ]
    }
   ],
   "source": [
    "# 16. Build a program that checks if a given string is a palindrome or not.\n",
    "a = input(\"Enter a string:\")\n",
    "b = a[::-1]\n",
    "if a == b:\n",
    "    print(\"Given string is palindrome\")\n",
    "else:\n",
    "    print(\"Given string is not a palindrome\")"
   ]
  },
  {
   "cell_type": "code",
   "execution_count": 4,
   "id": "f7314ec9-faae-475f-ad31-e56f9a3d85db",
   "metadata": {},
   "outputs": [
    {
     "name": "stdout",
     "output_type": "stream",
     "text": [
      "The average (excluding the smallest and largest values)is: 4.5\n"
     ]
    }
   ],
   "source": [
    "# 17. Write a program that calculates the average of a list of numbers, excluding the smallest and largest values.\n",
    "numbers = [1, 2, 3, 4, 5, 6, 7, 8]\n",
    "\n",
    "sorted_numbers = sorted(numbers)\n",
    "excluded_numbers = sorted_numbers[1:-1]\n",
    "\n",
    "average = sum(excluded_numbers) / len(excluded_numbers)\n",
    "\n",
    "print(\"The average (excluding the smallest and largest values)is:\", average)\n"
   ]
  },
  {
   "cell_type": "code",
   "execution_count": 5,
   "id": "5f09a799-6d3c-47ab-8864-d2463bda61d2",
   "metadata": {},
   "outputs": [
    {
     "name": "stdin",
     "output_type": "stream",
     "text": [
      "Enter temperature in Celsius:  32\n"
     ]
    },
    {
     "name": "stdout",
     "output_type": "stream",
     "text": [
      "32.0 degrees Celsius is equal to 89.6 in degrees Fahrenheit.\n"
     ]
    }
   ],
   "source": [
    "# 18. Develop a program that converts a given temperature from Celsius to Fahrenheit.\n",
    "c = float(input(\"Enter temperature in Celsius: \"))\n",
    "\n",
    "f = (c* 9/5) + 32\n",
    "\n",
    "print(c, \"degrees Celsius is equal to\", f, \"in degrees Fahrenheit.\")\n"
   ]
  },
  {
   "cell_type": "code",
   "execution_count": 8,
   "id": "e1fe21d7-cf4a-4c9a-882c-0c8d05fe9e1d",
   "metadata": {},
   "outputs": [
    {
     "name": "stdin",
     "output_type": "stream",
     "text": [
      "Enter the number1: 8\n",
      "Enter the number2: 2\n",
      "Enter the operator: +,-,/,*  /\n"
     ]
    },
    {
     "name": "stdout",
     "output_type": "stream",
     "text": [
      "division is 4.0\n"
     ]
    }
   ],
   "source": [
    "# 19. Create a program that simulates a basic calculator for addition, subtraction, multiplication, and division.\n",
    "num1 = int(input(\"Enter the number1:\"))\n",
    "num2 = int(input(\"Enter the number2:\"))\n",
    "\n",
    "operator = input(\"Enter the operator: +,-,/,* \")\n",
    "match operator:\n",
    "    case\"+\":\n",
    "        print(\"Sum is \", num1 +num2)\n",
    "    case\"-\":\n",
    "        print(\"Difference is\" , num1 - num2)\n",
    "    case \"/\":\n",
    "        print(\"division is\" , num1/num2)\n",
    "    case\"*\":\n",
    "        print(\"Multiplication is\" , num1*num2)\n",
    "    "
   ]
  },
  {
   "cell_type": "code",
   "execution_count": 3,
   "id": "c0b489c7-066f-4176-9ffb-045e08ce7518",
   "metadata": {},
   "outputs": [
    {
     "name": "stdin",
     "output_type": "stream",
     "text": [
      "Enter the coefficient a:  1\n",
      "Enter the coefficient b:  -4\n",
      "Enter the coefficient c:  -9\n",
      "Enter the coefficient d:  36\n"
     ]
    },
    {
     "name": "stdout",
     "output_type": "stream",
     "text": [
      "The roots of the cubic equation are:\n",
      "Root 1: (-16.722222222222214+31.08068949137486j)\n",
      "Root 2: (35.27777777777777+1.2509255832441921j)\n",
      "Root 3: (-18.55555555555555-32.331615074619044j)\n"
     ]
    }
   ],
   "source": [
    "# 20. Write a program that determines the roots of a cubic equation using the Cardano formula.\n",
    "import cmath\n",
    "# (ax^3 + bx^2 + cx + d) \n",
    "import cmath\n",
    "\n",
    "a = float(input(\"Enter the coefficient a: \"))\n",
    "b = float(input(\"Enter the coefficient b: \"))\n",
    "c = float(input(\"Enter the coefficient c: \"))\n",
    "d = float(input(\"Enter the coefficient d: \"))\n",
    "\n",
    "delta = 18*a*b*c*d - 4*b**3*d + b**2*c**2 - 4*a*c**3 - 27*a**2*d**2\n",
    "delta_root = cmath.sqrt(delta)\n",
    "\n",
    "C = (delta_root - b**2 + 3*a*c) / (3 * cmath.exp(2j * cmath.pi / 3) * a**(1/3))\n",
    "u = cmath.exp(2j * cmath.pi / 3)\n",
    "\n",
    "root1 = -1 / (3*a) * (b + C + d / C)\n",
    "root2 = -1 / (3*a) * (u*b + u**2*C + d / (u*C))\n",
    "root3 = -1 / (3*a) * (u**2*b + u*C + d / (u**2*C))\n",
    "\n",
    "# Print the roots\n",
    "print(f\"The roots of the cubic equation are:\")\n",
    "print(f\"Root 1: {root1}\")\n",
    "print(f\"Root 2: {root2}\")\n",
    "print(f\"Root 3: {root3}\")\n",
    "\n"
   ]
  },
  {
   "cell_type": "code",
   "execution_count": 4,
   "id": "b0ce75c6-2ace-463b-89be-b67b38a32359",
   "metadata": {},
   "outputs": [
    {
     "name": "stdin",
     "output_type": "stream",
     "text": [
      "Enter the income: 600000\n"
     ]
    },
    {
     "name": "stdout",
     "output_type": "stream",
     "text": [
      "Income Tax for income 600000 is: 57500.0 INR\n"
     ]
    }
   ],
   "source": [
    "# 21. Create a program that calculates the income tax based on the user's income and tax brackets.\n",
    "slabs = [250000, 500000, 1000000]\n",
    "rates = [0.05, 0.1, 0.2, 0.3]\n",
    "\n",
    "income = int(input(\"Enter the income:\"))\n",
    "\n",
    "tax = 0\n",
    "\n",
    "for i in range(len(slabs) + 1):\n",
    "    if i == 0:\n",
    "        # First slab\n",
    "        taxable_amount = min(income, slabs[i])\n",
    "        tax += taxable_amount * rates[i]\n",
    "    elif i < len(slabs):\n",
    "        # Intermediate slabs\n",
    "        taxable_amount = max(0, min(income, slabs[i]) - slabs[i - 1])\n",
    "        tax += taxable_amount * rates[i]\n",
    "    else:\n",
    "        # Last slab\n",
    "        taxable_amount = max(0, income - slabs[i - 1])\n",
    "        tax += taxable_amount * rates[i]\n",
    "\n",
    "print(f\"Income Tax for income {income} is: {tax} INR\")\n"
   ]
  },
  {
   "cell_type": "code",
   "execution_count": 8,
   "id": "a232fdd3-18ae-4c46-aaa8-8103533f0aea",
   "metadata": {},
   "outputs": [
    {
     "name": "stdout",
     "output_type": "stream",
     "text": [
      "Welcome to the  rock-paper-scissors game\n"
     ]
    },
    {
     "name": "stdin",
     "output_type": "stream",
     "text": [
      "Enter 'rock' , 'paper' or 'scissor' :  rock\n"
     ]
    },
    {
     "name": "stdout",
     "output_type": "stream",
     "text": [
      "You choose : rock\n",
      "computer choose: paper\n",
      "You loss!\n"
     ]
    },
    {
     "name": "stdin",
     "output_type": "stream",
     "text": [
      "Do you want to play again? (yes/no):  yes\n",
      "Enter 'rock' , 'paper' or 'scissor' :  paper\n"
     ]
    },
    {
     "name": "stdout",
     "output_type": "stream",
     "text": [
      "You choose : paper\n",
      "computer choose: rock\n",
      "You win!\n"
     ]
    },
    {
     "name": "stdin",
     "output_type": "stream",
     "text": [
      "Do you want to play again? (yes/no):  no\n"
     ]
    },
    {
     "name": "stdout",
     "output_type": "stream",
     "text": [
      "Thanks for playing! Goodbye.\n"
     ]
    }
   ],
   "source": [
    "# 22. Write a program that simulates a rock-paper-scissors game against the computer.\n",
    "import random\n",
    "print(\"Welcome to the  rock-paper-scissors game\")\n",
    "while True:\n",
    "    user_choice = input(\"Enter 'rock' , 'paper' or 'scissor' : \").lower()\n",
    "    \n",
    "    if user_choice not in ['rock' , 'paper' , 'scissor']:\n",
    "        print(\"please enter a valid input\")\n",
    "    \n",
    "    computer_choice = random.choice(['rock' , 'paper' , 'scissor'])\n",
    "    print(\"You choose :\" , user_choice)\n",
    "    print(\"computer choose:\" , computer_choice)\n",
    "    \n",
    "    if user_choice == computer_choice:\n",
    "        print(\"It's a Tie !!\")\n",
    "        \n",
    "    elif (user_choice == 'rock' and computer_choice == 'scissors') or \\\n",
    "         (user_choice == 'paper' and computer_choice == 'rock') or \\\n",
    "         (user_choice == 'scissors' and computer_choice == 'paper'):\n",
    "        print(\"You win!\")\n",
    "    else:\n",
    "        print(\"You loss!\")\n",
    "        \n",
    "    play_again = input(\"Do you want to play again? (yes/no): \").lower()\n",
    "    if play_again != 'yes':\n",
    "        print(\"Thanks for playing! Goodbye.\")\n",
    "        break\n",
    "    \n",
    "    \n",
    "    "
   ]
  },
  {
   "cell_type": "code",
   "execution_count": 3,
   "id": "de15ff0e-f416-4906-b3fd-0ffa346cdd5e",
   "metadata": {},
   "outputs": [
    {
     "name": "stdout",
     "output_type": "stream",
     "text": [
      "Welcome to Random Password Generator!\n"
     ]
    },
    {
     "name": "stdin",
     "output_type": "stream",
     "text": [
      "Enter the desired length of the password:  6\n",
      "Include lowercase letters? (yes/no):  yes\n",
      "Include uppercase letters? (yes/no):  yes\n",
      "Include digits? (yes/no):  yes\n",
      "Include special characters? (yes/no):  no\n"
     ]
    },
    {
     "name": "stdout",
     "output_type": "stream",
     "text": [
      "\n",
      "Generated Password: EgMpMo\n"
     ]
    }
   ],
   "source": [
    "# 23. Develop a program that generates a random password based on user preferences (length, complexity).\n",
    "import random\n",
    "import string\n",
    "\n",
    "print(\"Welcome to Random Password Generator!\")\n",
    "\n",
    "length = int(input(\"Enter the desired length of the password: \"))\n",
    "use_lowercase = input(\"Include lowercase letters? (yes/no): \").lower() == 'yes'\n",
    "use_uppercase = input(\"Include uppercase letters? (yes/no): \").lower() == 'yes'\n",
    "use_digits = input(\"Include digits? (yes/no): \").lower() == 'yes'\n",
    "use_special_chars = input(\"Include special characters? (yes/no): \").lower() == 'yes'\n",
    "\n",
    "characters = \"\"\n",
    "if use_lowercase:\n",
    "    characters += string.ascii_lowercase\n",
    "if use_uppercase:\n",
    "    characters += string.ascii_uppercase\n",
    "if use_digits:\n",
    "    characters += string.digits\n",
    "if use_special_chars:\n",
    "    characters += string.punctuation\n",
    "\n",
    "if not characters:\n",
    "    print(\"Error: At least one character type should be selected.\")\n",
    "else:\n",
    "    password = ''.join(random.choice(characters) for _ in range(length))\n",
    "    print(f\"\\nGenerated Password: {password}\")\n",
    "\n"
   ]
  },
  {
   "cell_type": "code",
   "execution_count": 4,
   "id": "755ac5c4-c4d3-466c-9332-c95c48c737ec",
   "metadata": {},
   "outputs": [
    {
     "name": "stdout",
     "output_type": "stream",
     "text": [
      "Welcome to the Text-Based Adventure Game!\n",
      "\n",
      "You find yourself standing at a crossroads.\n",
      "To your left is a dark forest.\n",
      "To your right is a mysterious cave.\n"
     ]
    },
    {
     "name": "stdin",
     "output_type": "stream",
     "text": [
      "Which path will you choose? (Type 'left' or 'right'):  left\n"
     ]
    },
    {
     "name": "stdout",
     "output_type": "stream",
     "text": [
      "\n",
      "You enter the dark forest and hear strange noises.\n",
      "Suddenly, you come across a friendly wizard.\n",
      "He offers you a magical key and says it opens a hidden door in the forest.\n"
     ]
    },
    {
     "name": "stdin",
     "output_type": "stream",
     "text": [
      "Will you take the key? (Type 'yes' or 'no'):  yes\n"
     ]
    },
    {
     "name": "stdout",
     "output_type": "stream",
     "text": [
      "\n",
      "You take the magical key and thank the wizard.\n",
      "You use the key to open the hidden door, revealing a treasure chest.\n",
      "Congratulations! You found the treasure and won the game!\n"
     ]
    }
   ],
   "source": [
    "# 24. Create a program that implements a simple text-based adventure game with branching scenarios.\n",
    "import time  \n",
    "\n",
    "print(\"Welcome to the Text-Based Adventure Game!\")\n",
    "time.sleep(1) \n",
    "\n",
    "print(\"\\nYou find yourself standing at a crossroads.\")\n",
    "print(\"To your left is a dark forest.\")\n",
    "print(\"To your right is a mysterious cave.\")\n",
    "\n",
    "choice1 = input(\"Which path will you choose? (Type 'left' or 'right'): \").lower()\n",
    "\n",
    "\n",
    "if choice1 == 'left':\n",
    "    print(\"\\nYou enter the dark forest and hear strange noises.\")\n",
    "    time.sleep(1)\n",
    "    print(\"Suddenly, you come across a friendly wizard.\")\n",
    "    time.sleep(1)\n",
    "    print(\"He offers you a magical key and says it opens a hidden door in the forest.\")\n",
    "    \n",
    "    choice2 = input(\"Will you take the key? (Type 'yes' or 'no'): \").lower()\n",
    "\n",
    "    if choice2 == 'yes':\n",
    "        print(\"\\nYou take the magical key and thank the wizard.\")\n",
    "        time.sleep(1)\n",
    "        print(\"You use the key to open the hidden door, revealing a treasure chest.\")\n",
    "        print(\"Congratulations! You found the treasure and won the game!\")\n",
    "    else:\n",
    "        print(\"\\nThe wizard disappears, and you continue exploring the forest.\")\n",
    "        print(\"Unfortunately, you got lost and couldn't find your way back.\")\n",
    "        print(\"Game over! Better luck next time.\")\n",
    "\n",
    "elif choice1 == 'right':\n",
    "    print(\"\\nYou enter the mysterious cave and discover a dragon guarding a pile of gold.\")\n",
    "    time.sleep(1)\n",
    "    print(\"The dragon looks at you and speaks:\")\n",
    "    time.sleep(1)\n",
    "    print(\"'To pass, you must answer my riddle: What has keys but can't open locks?'\")\n",
    "\n",
    "    answer = input(\"What is your answer?: \").lower()\n",
    "\n",
    "    if answer == 'piano':\n",
    "        print(\"\\nThe dragon nods in approval and lets you pass.\")\n",
    "        time.sleep(1)\n",
    "        print(\"You grab some gold from the pile and make a successful escape.\")\n",
    "        print(\"Congratulations! You survived and won the game!\")\n",
    "    else:\n",
    "        print(\"\\nThe dragon roars in anger.\")\n",
    "        print(\"Unfortunately, your answer is incorrect, and the dragon breathes fire.\")\n",
    "        print(\"Game over! You got roasted.\")\n",
    "\n",
    "else:\n",
    "    print(\"\\nInvalid choice! The adventure ends without making a decision.\")\n",
    "    print(\"Game over! Try again with a valid choice.\")\n"
   ]
  },
  {
   "cell_type": "code",
   "execution_count": 6,
   "id": "3385a17f-6081-4386-8987-533bb6b5b979",
   "metadata": {},
   "outputs": [
    {
     "name": "stdout",
     "output_type": "stream",
     "text": [
      "Welcome to the linear equation solver!!\n"
     ]
    },
    {
     "name": "stdin",
     "output_type": "stream",
     "text": [
      "Enter the coefficient of x: 2\n",
      "Enter the constant value: 4\n"
     ]
    },
    {
     "name": "stdout",
     "output_type": "stream",
     "text": [
      "The solution for the linear equation 2x + 4 = 0 is x = -2.0\n"
     ]
    }
   ],
   "source": [
    "# 25. Build a program that solves a linear equation for x, considering different cases.\n",
    "print(\"Welcome to the linear equation solver!!\")\n",
    "a = int(input(\"Enter the coefficient of x:\"))\n",
    "b = int(input(\"Enter the constant value:\"))\n",
    "if a == 0:\n",
    "    if b==0 :\n",
    "        print(\"The equation is trivial. It has infinite solutions.\")\n",
    "    else:\n",
    "        print(\"The equation is inconsistent. It has no solution.\")\n",
    "else:\n",
    "    x = -b/a\n",
    "    print(f\"The solution for the linear equation {a}x + {b} = 0 is x = {x}\")"
   ]
  },
  {
   "cell_type": "code",
   "execution_count": 14,
   "id": "325a2bd3-d658-4e70-9272-4b60154b0c1f",
   "metadata": {},
   "outputs": [
    {
     "name": "stdout",
     "output_type": "stream",
     "text": [
      "Welcome to the quiz game!!\n",
      "lets start the quiz!! Here is the first question\n",
      "1.What is capital of India?\n",
      "A.Delhi\n",
      "B.Hyderabad\n",
      "C.Mumbai\n"
     ]
    },
    {
     "name": "stdin",
     "output_type": "stream",
     "text": [
      "Enter the option (A , B or C) A\n"
     ]
    },
    {
     "name": "stdout",
     "output_type": "stream",
     "text": [
      "Correct!\n",
      "Now ,Here is the second question\n",
      "2.What is the largest planet in our solar system?\n",
      "A.Earth\n",
      "B.Jupiter\n",
      "C.Mars\n"
     ]
    },
    {
     "name": "stdin",
     "output_type": "stream",
     "text": [
      "Enter the option (A , B or C) B\n"
     ]
    },
    {
     "name": "stdout",
     "output_type": "stream",
     "text": [
      "Correct!\n",
      "Now ,Here is the Third question\n",
      "3.How many continents are there?\n",
      "A.5\n",
      "B.6\n",
      "C.7\n"
     ]
    },
    {
     "name": "stdin",
     "output_type": "stream",
     "text": [
      "Enter the option (A , B or C) B\n"
     ]
    },
    {
     "name": "stdout",
     "output_type": "stream",
     "text": [
      "Incorrect!, The answer is C.7\n",
      "\n",
      "Quiz Completed!\n",
      "Your final score is: 1.75 out of 3.\n"
     ]
    }
   ],
   "source": [
    "# 26. Write a program that simulates a basic quiz game with multiple-choice questions and scoring.\n",
    "import time\n",
    "print(\"Welcome to the quiz game!!\")\n",
    "score = 0\n",
    "print(\"lets start the quiz!! Here is the first question\")\n",
    "time.sleep(2)\n",
    "print(\"1.What is capital of India?\")\n",
    "time.sleep(2)\n",
    "print(\"A.Delhi\\nB.Hyderabad\\nC.Mumbai\")\n",
    "answer1 = input(\"Enter the option (A , B or C)\").upper()\n",
    "if answer1 == \"A\":\n",
    "    print(\"Correct!\")\n",
    "    score += 1\n",
    "else:\n",
    "    print(\"Incorrect!, The answer is A.Delhi\")\n",
    "    score -= 0.25\n",
    "    \n",
    "print(\"Now ,Here is the second question\")\n",
    "time.sleep(2)\n",
    "print(\"2.What is the largest planet in our solar system?\")\n",
    "time.sleep(2)\n",
    "print(\"A.Earth\\nB.Jupiter\\nC.Mars\")\n",
    "answer1 = input(\"Enter the option (A , B or C)\").upper()\n",
    "if answer1 == \"B\":\n",
    "    print(\"Correct!\")\n",
    "    score += 1\n",
    "else:\n",
    "    print(\"Incorrect!, The answer is B.Jupiter\")\n",
    "    score -= 0.25\n",
    "\n",
    "print(\"Now ,Here is the Third question\")\n",
    "time.sleep(2)\n",
    "print(\"3.How many continents are there?\")\n",
    "time.sleep(2)\n",
    "print(\"A.5\\nB.6\\nC.7\")\n",
    "answer1 = input(\"Enter the option (A , B or C)\").upper()\n",
    "if answer1 == \"C\":\n",
    "    print(\"Correct!\")\n",
    "    score += 1\n",
    "else:\n",
    "    print(\"Incorrect!, The answer is C.7\")\n",
    "    score -= 0.25\n",
    "    \n",
    "print(\"\\nQuiz Completed!\")\n",
    "print(f\"Your final score is: {score} out of 3.\")\n"
   ]
  },
  {
   "cell_type": "code",
   "execution_count": 16,
   "id": "d3166bf0-b94c-4bfb-b91b-b9a22931e32f",
   "metadata": {},
   "outputs": [
    {
     "name": "stdout",
     "output_type": "stream",
     "text": [
      "Welcome to the Prime Year Checker!\n"
     ]
    },
    {
     "name": "stdin",
     "output_type": "stream",
     "text": [
      "Enter a year to check if it's prime:  2000\n"
     ]
    },
    {
     "name": "stdout",
     "output_type": "stream",
     "text": [
      "2000 is not a prime year.\n"
     ]
    }
   ],
   "source": [
    "# 27. Develop a program that determines whether a given year is a prime number or not.\n",
    "print(\"Welcome to the Prime Year Checker!\")\n",
    "\n",
    "year = int(input(\"Enter a year to check if it's prime: \"))\n",
    "\n",
    "if year < 2:\n",
    "    print(f\"{year} is not a prime year.\")\n",
    "else:\n",
    "    is_prime = True\n",
    "    for i in range(2, int(year**0.5) + 1):\n",
    "        if year % i == 0:\n",
    "            is_prime = False\n",
    "            break\n",
    "\n",
    "    if is_prime:\n",
    "        print(f\"{year} is a prime year.\")\n",
    "    else:\n",
    "        print(f\"{year} is not a prime year.\")\n"
   ]
  },
  {
   "cell_type": "code",
   "execution_count": 17,
   "id": "a3050258-e68d-4bf4-bcbf-3f6fe7c9cb4f",
   "metadata": {},
   "outputs": [
    {
     "name": "stdout",
     "output_type": "stream",
     "text": [
      "Welcome to the Number Sorter!\n"
     ]
    },
    {
     "name": "stdin",
     "output_type": "stream",
     "text": [
      "Enter the first number:  5\n",
      "Enter the second number:  9\n",
      "Enter the third number:  7\n"
     ]
    },
    {
     "name": "stdout",
     "output_type": "stream",
     "text": [
      "\n",
      "Sorted Numbers in Ascending Order:\n",
      "[5.0, 7.0, 9.0]\n"
     ]
    }
   ],
   "source": [
    "# 28. Create a program that sorts three numbers in ascending order using conditional statements.\n",
    "print(\"Welcome to the Number Sorter!\")\n",
    "\n",
    "num1 = float(input(\"Enter the first number: \"))\n",
    "num2 = float(input(\"Enter the second number: \"))\n",
    "num3 = float(input(\"Enter the third number: \"))\n",
    "\n",
    "if num1 <= num2 <= num3:\n",
    "    sorted_nums = [num1, num2, num3]\n",
    "elif num1 <= num3 <= num2:\n",
    "    sorted_nums = [num1, num3, num2]\n",
    "elif num2 <= num1 <= num3:\n",
    "    sorted_nums = [num2, num1, num3]\n",
    "elif num2 <= num3 <= num1:\n",
    "    sorted_nums = [num2, num3, num1]\n",
    "elif num3 <= num1 <= num2:\n",
    "    sorted_nums = [num3, num1, num2]\n",
    "else:\n",
    "    sorted_nums = [num3, num2, num1]\n",
    "\n",
    "print(\"\\nSorted Numbers in Ascending Order:\")\n",
    "print(sorted_nums)\n",
    "\n",
    "        "
   ]
  },
  {
   "cell_type": "code",
   "execution_count": 19,
   "id": "a654e0ec-8e5d-4b65-9d65-2696dc06b576",
   "metadata": {},
   "outputs": [
    {
     "name": "stdin",
     "output_type": "stream",
     "text": [
      "Enter the coefficient a:  1\n",
      "Enter the coefficient b:  -3\n",
      "Enter the coefficient c:  2\n"
     ]
    },
    {
     "name": "stdout",
     "output_type": "stream",
     "text": [
      "The roots are real and distinct: 2.0 and 1.0\n"
     ]
    }
   ],
   "source": [
    "# 29. Build a program that determines the roots of a quartic equation using numerical methods.\n",
    "import math\n",
    "\n",
    "a = float(input(\"Enter the coefficient a: \"))\n",
    "b = float(input(\"Enter the coefficient b: \"))\n",
    "c = float(input(\"Enter the coefficient c: \"))\n",
    "\n",
    "d = (b**2) - (4*a*c)\n",
    "\n",
    "if d> 0:\n",
    "    if d == 0:\n",
    "        r = -b / (2*a)\n",
    "        print(\"There is one real and double root:\" ,r)\n",
    "    else:\n",
    "        r1 = (-b + math.sqrt(d)) / (2*a)\n",
    "        r2 = (-b - math.sqrt(d)) / (2*a)\n",
    "        print(\"The roots are real and distinct:\", r1,\"and\",r2)\n",
    "else:\n",
    "    print(\"The roots are complex:\")\n"
   ]
  },
  {
   "cell_type": "code",
   "execution_count": 20,
   "id": "66137e42-e6bd-411b-9d62-a31f5e1d6fad",
   "metadata": {},
   "outputs": [
    {
     "name": "stdout",
     "output_type": "stream",
     "text": [
      "Welcome to the BMI Calculator!\n"
     ]
    },
    {
     "name": "stdin",
     "output_type": "stream",
     "text": [
      "Enter your weight in kilograms:  57\n",
      "Enter your height in meters:  1.75\n"
     ]
    },
    {
     "name": "stdout",
     "output_type": "stream",
     "text": [
      "\n",
      "Your BMI is: 18.612244897959183\n",
      "Your weight is normal. Keep up the good work!\n"
     ]
    }
   ],
   "source": [
    "# 30. Write a program that calculates the BMI (Body Mass Index) and provides health recommendations based\n",
    "# on the user's input.\n",
    "print(\"Welcome to the BMI Calculator!\")\n",
    "\n",
    "weight_kg = float(input(\"Enter your weight in kilograms: \"))\n",
    "height_m = float(input(\"Enter your height in meters: \"))\n",
    "\n",
    "bmi = weight_kg / (height_m ** 2)\n",
    "\n",
    "print(\"\\nYour BMI is:\", bmi)\n",
    "\n",
    "if bmi < 18.5:\n",
    "    print(\"You are underweight. Consider gaining some weight.\")\n",
    "elif 18.5 <= bmi < 24.9:\n",
    "    print(\"Your weight is normal. Keep up the good work!\")\n",
    "elif 25 <= bmi < 29.9:\n",
    "    print(\"You are overweight. Consider losing some weight for better health.\")\n",
    "else:\n",
    "    print(\"You are obese. It's important to focus on a healthy lifestyle and consult with a healthcare professional.\")\n"
   ]
  },
  {
   "cell_type": "code",
   "execution_count": null,
   "id": "d5ce9cba-f266-4ab3-90df-a346d37da5eb",
   "metadata": {},
   "outputs": [],
   "source": [
    "# Challenge Level:"
   ]
  },
  {
   "cell_type": "code",
   "execution_count": 21,
   "id": "9a0ad972-17e0-467e-86af-605c30baf486",
   "metadata": {},
   "outputs": [
    {
     "name": "stdin",
     "output_type": "stream",
     "text": [
      "Enter your password:  Lohith@01\n"
     ]
    },
    {
     "name": "stdout",
     "output_type": "stream",
     "text": [
      "Password is valid. Congratulations!\n"
     ]
    }
   ],
   "source": [
    "# 31. Create a program that validates a password based on complexity rules (length, characters, etc.).\n",
    "# Password validation program\n",
    "\n",
    "password = input(\"Enter your password: \")\n",
    "\n",
    "if len(password) < 8:\n",
    "    print(\"Password must be at least 8 characters long.\")\n",
    "else:\n",
    "    if not any(char.isupper() for char in password):\n",
    "        print(\"Password must contain at least one uppercase letter.\")\n",
    "    else:\n",
    "        if not any(char.islower() for char in password):\n",
    "            print(\"Password must contain at least one lowercase letter.\")\n",
    "        else:\n",
    "            if not any(char.isdigit() for char in password):\n",
    "                print(\"Password must contain at least one digit.\")\n",
    "            else:\n",
    "                special_characters = \"!@#$%^&*()-_=+[]{}|;:'\\\",.<>/?\"\n",
    "                if not any(char in special_characters for char in password):\n",
    "                    print(\"Password must contain at least one special character.\")\n",
    "                else:\n",
    "                    print(\"Password is valid. Congratulations!\")\n"
   ]
  },
  {
   "cell_type": "code",
   "execution_count": 22,
   "id": "d0a779d2-7b9e-43c6-b4d2-b1c5fd815ad8",
   "metadata": {},
   "outputs": [
    {
     "name": "stdin",
     "output_type": "stream",
     "text": [
      "Enter the number of rows for the matrices:  3\n",
      "Enter the number of columns for the matrices:  3\n"
     ]
    },
    {
     "name": "stdout",
     "output_type": "stream",
     "text": [
      "Enter elements for Matrix A:\n"
     ]
    },
    {
     "name": "stdin",
     "output_type": "stream",
     "text": [
      "Enter element for A[0][0]:  1\n",
      "Enter element for A[0][1]:  2\n",
      "Enter element for A[0][2]:  3\n",
      "Enter element for A[1][0]:  4\n",
      "Enter element for A[1][1]:  5\n",
      "Enter element for A[1][2]:  6\n",
      "Enter element for A[2][0]:  7\n",
      "Enter element for A[2][1]:  8\n",
      "Enter element for A[2][2]:  9\n"
     ]
    },
    {
     "name": "stdout",
     "output_type": "stream",
     "text": [
      "Enter elements for Matrix B:\n"
     ]
    },
    {
     "name": "stdin",
     "output_type": "stream",
     "text": [
      "Enter element for B[0][0]:  9\n",
      "Enter element for B[0][1]:  8\n",
      "Enter element for B[0][2]:  7\n",
      "Enter element for B[1][0]:  6\n",
      "Enter element for B[1][1]:  5\n",
      "Enter element for B[1][2]:  4\n",
      "Enter element for B[2][0]:  3\n",
      "Enter element for B[2][1]:  2\n",
      "Enter element for B[2][2]:  1\n"
     ]
    },
    {
     "name": "stdout",
     "output_type": "stream",
     "text": [
      "\n",
      "Matrix A:\n",
      "[1, 2, 3]\n",
      "[4, 5, 6]\n",
      "[7, 8, 9]\n",
      "\n",
      "Matrix B:\n",
      "[9, 8, 7]\n",
      "[6, 5, 4]\n",
      "[3, 2, 1]\n",
      "\n",
      "Matrix Sum (A + B):\n",
      "[10, 10, 10]\n",
      "[10, 10, 10]\n",
      "[10, 10, 10]\n",
      "\n",
      "Matrix Difference (A - B):\n",
      "[-8, -6, -4]\n",
      "[-2, 0, 2]\n",
      "[4, 6, 8]\n"
     ]
    }
   ],
   "source": [
    "# 32. Develop a program that performs matrix addition and subtraction based on user input.\n",
    "\n",
    "rows = int(input(\"Enter the number of rows for the matrices: \"))\n",
    "cols = int(input(\"Enter the number of columns for the matrices: \"))\n",
    "\n",
    "print(\"Enter elements for Matrix A:\")\n",
    "matrix_A = []\n",
    "for i in range(rows):\n",
    "    row = [int(input(f\"Enter element for A[{i}][{j}]: \")) for j in range(cols)]\n",
    "    matrix_A.append(row)\n",
    "\n",
    "print(\"Enter elements for Matrix B:\")\n",
    "matrix_B = []\n",
    "for i in range(rows):\n",
    "    row = [int(input(f\"Enter element for B[{i}][{j}]: \")) for j in range(cols)]\n",
    "    matrix_B.append(row)\n",
    "\n",
    "matrix_sum = []\n",
    "for i in range(rows):\n",
    "    row_sum = [matrix_A[i][j] + matrix_B[i][j] for j in range(cols)]\n",
    "    matrix_sum.append(row_sum)\n",
    "\n",
    "# Step 4: Perform matrix subtraction\n",
    "matrix_diff = []\n",
    "for i in range(rows):\n",
    "    row_diff = [matrix_A[i][j] - matrix_B[i][j] for j in range(cols)]\n",
    "    matrix_diff.append(row_diff)\n",
    "\n",
    "# Step 5: Display the result of matrix addition\n",
    "print(\"\\nMatrix A:\")\n",
    "for row in matrix_A:\n",
    "    print(row)\n",
    "\n",
    "print(\"\\nMatrix B:\")\n",
    "for row in matrix_B:\n",
    "    print(row)\n",
    "\n",
    "print(\"\\nMatrix Sum (A + B):\")\n",
    "for row in matrix_sum:\n",
    "    print(row)\n",
    "\n",
    "# Step 6: Display the result of matrix subtraction\n",
    "print(\"\\nMatrix Difference (A - B):\")\n",
    "for row in matrix_diff:\n",
    "    print(row)\n"
   ]
  },
  {
   "cell_type": "code",
   "execution_count": 24,
   "id": "03df7153-fee0-4785-bb52-eb32adb60483",
   "metadata": {},
   "outputs": [
    {
     "name": "stdin",
     "output_type": "stream",
     "text": [
      "Enter the first number:  2\n",
      "Enter the second number:  4\n"
     ]
    },
    {
     "name": "stdout",
     "output_type": "stream",
     "text": [
      "The Greatest Common Divisor (GCD) is: 2\n"
     ]
    }
   ],
   "source": [
    "# 33. Write a program that calculates the greatest common divisor (GCD) of two numbers using the Euclidean\n",
    "# algorithm.\n",
    "\n",
    "num1 = int(input(\"Enter the first number: \"))\n",
    "num2 = int(input(\"Enter the second number: \"))\n",
    "\n",
    "if num1 < num2:\n",
    "    num1, num2 = num2, num1\n",
    "\n",
    "while num2 != 0:\n",
    "    remainder = num1 % num2\n",
    "    num1 = num2\n",
    "    num2 = remainder\n",
    "\n",
    "print(f\"The Greatest Common Divisor (GCD) is: {num1}\")\n"
   ]
  },
  {
   "cell_type": "code",
   "execution_count": 25,
   "id": "5ed83ffa-37cf-4740-a97b-54cc57410141",
   "metadata": {},
   "outputs": [
    {
     "name": "stdin",
     "output_type": "stream",
     "text": [
      "Enter the number of rows for Matrix A:  3\n",
      "Enter the number of columns for Matrix A:  3\n",
      "Enter the number of rows for Matrix B:  3\n",
      "Enter the number of columns for Matrix B:  3\n"
     ]
    },
    {
     "name": "stdout",
     "output_type": "stream",
     "text": [
      "Enter elements for Matrix A:\n"
     ]
    },
    {
     "name": "stdin",
     "output_type": "stream",
     "text": [
      "Enter element for A[0][0]:  1\n",
      "Enter element for A[0][1]:  2\n",
      "Enter element for A[0][2]:  3\n",
      "Enter element for A[1][0]:  4\n",
      "Enter element for A[1][1]:  5\n",
      "Enter element for A[1][2]:  6\n",
      "Enter element for A[2][0]:  7\n",
      "Enter element for A[2][1]:  8\n",
      "Enter element for A[2][2]:  9\n"
     ]
    },
    {
     "name": "stdout",
     "output_type": "stream",
     "text": [
      "Enter elements for Matrix B:\n"
     ]
    },
    {
     "name": "stdin",
     "output_type": "stream",
     "text": [
      "Enter element for B[0][0]:  9\n",
      "Enter element for B[0][1]:  8\n",
      "Enter element for B[0][2]:  7\n",
      "Enter element for B[1][0]:  6\n",
      "Enter element for B[1][1]:  5\n",
      "Enter element for B[1][2]:  4\n",
      "Enter element for B[2][0]:  3\n",
      "Enter element for B[2][1]:  2\n",
      "Enter element for B[2][2]:  1\n"
     ]
    },
    {
     "name": "stdout",
     "output_type": "stream",
     "text": [
      "\n",
      "Matrix A:\n",
      "[1, 2, 3]\n",
      "[4, 5, 6]\n",
      "[7, 8, 9]\n",
      "\n",
      "Matrix B:\n",
      "[9, 8, 7]\n",
      "[6, 5, 4]\n",
      "[3, 2, 1]\n",
      "\n",
      "Matrix Multiplication (A * B):\n",
      "[30, 24, 18]\n",
      "[84, 69, 54]\n",
      "[138, 114, 90]\n"
     ]
    }
   ],
   "source": [
    "# 34. Build a program that performs matrix multiplication using nested loops and conditional statements.\n",
    "\n",
    "rows_A = int(input(\"Enter the number of rows for Matrix A: \"))\n",
    "cols_A = int(input(\"Enter the number of columns for Matrix A: \"))\n",
    "rows_B = int(input(\"Enter the number of rows for Matrix B: \"))\n",
    "cols_B = int(input(\"Enter the number of columns for Matrix B: \"))\n",
    "\n",
    "if cols_A != rows_B:\n",
    "    print(\"Matrices cannot be multiplied. Please enter valid dimensions.\")\n",
    "else:\n",
    "    print(\"Enter elements for Matrix A:\")\n",
    "    matrix_A = []\n",
    "    for i in range(rows_A):\n",
    "        row_A = [int(input(f\"Enter element for A[{i}][{j}]: \")) for j in range(cols_A)]\n",
    "        matrix_A.append(row_A)\n",
    "\n",
    "    print(\"Enter elements for Matrix B:\")\n",
    "    matrix_B = []\n",
    "    for i in range(rows_B):\n",
    "        row_B = [int(input(f\"Enter element for B[{i}][{j}]: \")) for j in range(cols_B)]\n",
    "        matrix_B.append(row_B)\n",
    "\n",
    "    result_matrix = []\n",
    "    for i in range(rows_A):\n",
    "        row_result = []\n",
    "        for j in range(cols_B):\n",
    "            element_sum = 0\n",
    "            for k in range(cols_A):\n",
    "                element_sum += matrix_A[i][k] * matrix_B[k][j]\n",
    "            row_result.append(element_sum)\n",
    "        result_matrix.append(row_result)\n",
    "\n",
    "    print(\"\\nMatrix A:\")\n",
    "    for row in matrix_A:\n",
    "        print(row)\n",
    "\n",
    "    print(\"\\nMatrix B:\")\n",
    "    for row in matrix_B:\n",
    "        print(row)\n",
    "\n",
    "    print(\"\\nMatrix Multiplication (A * B):\")\n",
    "    for row in result_matrix:\n",
    "        print(row)\n"
   ]
  },
  {
   "cell_type": "code",
   "execution_count": 26,
   "id": "ef44f5c8-5b9e-4707-9d74-279d9e7d1add",
   "metadata": {},
   "outputs": [
    {
     "name": "stdout",
     "output_type": "stream",
     "text": [
      " | | \n",
      "-----\n",
      " | | \n",
      "-----\n",
      " | | \n",
      "-----\n"
     ]
    },
    {
     "name": "stdin",
     "output_type": "stream",
     "text": [
      "Enter row (0, 1, or 2):  0\n",
      "Enter column (0, 1, or 2):  0\n"
     ]
    },
    {
     "name": "stdout",
     "output_type": "stream",
     "text": [
      "X| | \n",
      "-----\n",
      " | | \n",
      "-----\n",
      " | | \n",
      "-----\n",
      "Computer's turn:\n",
      "X| | \n",
      "-----\n",
      " | |O\n",
      "-----\n",
      " | | \n",
      "-----\n"
     ]
    },
    {
     "name": "stdin",
     "output_type": "stream",
     "text": [
      "Enter row (0, 1, or 2):  01\n",
      "Enter column (0, 1, or 2):  1\n"
     ]
    },
    {
     "name": "stdout",
     "output_type": "stream",
     "text": [
      "X| | \n",
      "-----\n",
      " |X|O\n",
      "-----\n",
      " | | \n",
      "-----\n",
      "Computer's turn:\n",
      "X| | \n",
      "-----\n",
      "O|X|O\n",
      "-----\n",
      " | | \n",
      "-----\n"
     ]
    },
    {
     "name": "stdin",
     "output_type": "stream",
     "text": [
      "Enter row (0, 1, or 2):  2\n",
      "Enter column (0, 1, or 2):  2\n"
     ]
    },
    {
     "name": "stdout",
     "output_type": "stream",
     "text": [
      "X| | \n",
      "-----\n",
      "O|X|O\n",
      "-----\n",
      " | |X\n",
      "-----\n",
      "X wins!\n"
     ]
    }
   ],
   "source": [
    "# 35. Create a program that simulates a basic text-based tic-tac-toe game against the computer.\n",
    "import random\n",
    "\n",
    "board = [[\" \" for _ in range(3)] for _ in range(3)]\n",
    "\n",
    "def display_board():\n",
    "    for row in board:\n",
    "        print(\"|\".join(row))\n",
    "        print(\"-----\")\n",
    "\n",
    "def check_win(player):\n",
    "    for row in board:\n",
    "        if all(cell == player for cell in row):\n",
    "            return True\n",
    "\n",
    "    for col in range(3):\n",
    "        if all(board[row][col] == player for row in range(3)):\n",
    "            return True\n",
    "\n",
    "    if all(board[i][i] == player for i in range(3)) or all(board[i][2 - i] == player for i in range(3)):\n",
    "        return True\n",
    "\n",
    "    return False\n",
    "\n",
    "def is_board_full():\n",
    "    return all(cell != \" \" for row in board for cell in row)\n",
    "\n",
    "current_player = \"X\"\n",
    "while True:\n",
    "    display_board()\n",
    "\n",
    "    if current_player == \"X\":\n",
    "        row = int(input(\"Enter row (0, 1, or 2): \"))\n",
    "        col = int(input(\"Enter column (0, 1, or 2): \"))\n",
    "        if board[row][col] == \" \":\n",
    "            board[row][col] = \"X\"\n",
    "        else:\n",
    "            print(\"Cell already occupied. Try again.\")\n",
    "            continue\n",
    "    else:\n",
    "        print(\"Computer's turn:\")\n",
    "        empty_cells = [(i, j) for i in range(3) for j in range(3) if board[i][j] == \" \"]\n",
    "        computer_move = random.choice(empty_cells)\n",
    "        board[computer_move[0]][computer_move[1]] = \"O\"\n",
    "\n",
    "    if check_win(current_player):\n",
    "        display_board()\n",
    "        print(f\"{current_player} wins!\")\n",
    "        break\n",
    "\n",
    "    if is_board_full():\n",
    "        display_board()\n",
    "        print(\"It's a draw!\")\n",
    "        break\n",
    "\n",
    "    current_player = \"O\" if current_player == \"X\" else \"X\"\n"
   ]
  },
  {
   "cell_type": "code",
   "execution_count": 27,
   "id": "89ff5c5b-4464-49be-91a5-9d5fc3ab265c",
   "metadata": {},
   "outputs": [
    {
     "name": "stdin",
     "output_type": "stream",
     "text": [
      "Enter the number of Fibonacci terms to generate:  4\n"
     ]
    },
    {
     "name": "stdout",
     "output_type": "stream",
     "text": [
      "Fibonacci sequence up to term 4 :\n",
      "[0, 1, 1, 2]\n"
     ]
    }
   ],
   "source": [
    "# 36. Write a program that generates Fibonacci numbers up to a specified term using iterative methods.\n",
    "\n",
    "num_terms = int(input(\"Enter the number of Fibonacci terms to generate: \"))\n",
    "\n",
    "fibonacci_sequence = [0, 1]\n",
    "\n",
    "for _ in range(2, num_terms):\n",
    "    next_term = fibonacci_sequence[-1] + fibonacci_sequence[-2]\n",
    "    fibonacci_sequence.append(next_term)\n",
    "\n",
    "print(\"Fibonacci sequence up to term\", num_terms, \":\")\n",
    "print(fibonacci_sequence)\n"
   ]
  },
  {
   "cell_type": "code",
   "execution_count": 28,
   "id": "32b52dbe-7f2c-487a-8c22-d63ff24afe5a",
   "metadata": {},
   "outputs": [
    {
     "name": "stdin",
     "output_type": "stream",
     "text": [
      "Enter the value of n to find the nth Fibonacci term:  4\n"
     ]
    },
    {
     "name": "stdout",
     "output_type": "stream",
     "text": [
      "The 4th Fibonacci term is: 3\n"
     ]
    }
   ],
   "source": [
    "# 37. Develop a program that calculates the nth term of the Fibonacci sequence using memoization.\n",
    "\n",
    "n = int(input(\"Enter the value of n to find the nth Fibonacci term: \"))\n",
    "\n",
    "fibonacci_table = {0: 0, 1: 1}\n",
    "\n",
    "for i in range(2, n + 1):\n",
    "    fibonacci_table[i] = fibonacci_table[i - 1] + fibonacci_table[i - 2]\n",
    "\n",
    "print(f\"The {n}th Fibonacci term is:\", fibonacci_table[n])\n"
   ]
  },
  {
   "cell_type": "code",
   "execution_count": 33,
   "id": "6d5b09c0-1643-4e2d-8e6d-b686fdc2b76c",
   "metadata": {},
   "outputs": [
    {
     "name": "stdin",
     "output_type": "stream",
     "text": [
      "Enter the year:  2024\n",
      "Enter the month (1-12):  1\n"
     ]
    },
    {
     "name": "stdout",
     "output_type": "stream",
     "text": [
      "\n",
      "Calendar for 1/2024\n",
      "\n",
      " Mo Tu We Th Fr Sa Su\n",
      " 1  2  3  4  5  6  7 \n",
      " 8  9 10 11 12 13 14 \n",
      "15 16 17 18 19 20 21 \n",
      "22 23 24 25 26 27 28 \n",
      "29 30 31 \n"
     ]
    }
   ],
   "source": [
    "# 38. Create a program that generates a calendar for a given month and year using conditional statements.\n",
    "# Calendar generation program\n",
    "year = int(input(\"Enter the year: \"))\n",
    "month = int(input(\"Enter the month (1-12): \"))\n",
    "\n",
    "if month in [1, 3, 5, 7, 8, 10, 12]:\n",
    "    num_days = 31\n",
    "elif month in [4, 6, 9, 11]:\n",
    "    num_days = 30\n",
    "else:\n",
    "    if (year % 4 == 0 and year % 100 != 0) or (year % 400 == 0):\n",
    "        num_days = 29\n",
    "    else:\n",
    "        num_days = 28\n",
    "\n",
    "print(\"\\nCalendar for {}/{}\\n\".format(month, year))\n",
    "print(\" Mo Tu We Th Fr Sa Su\")\n",
    "\n",
    "if month < 3:\n",
    "    month += 12\n",
    "    year -= 1\n",
    "k = year % 100\n",
    "j = year // 100\n",
    "day_of_week = (1 + 13 * (month + 1) // 5 + k + k // 4 + j // 4 - 2 * j) % 7\n",
    "\n",
    "# Correct the calculation of day_of_week\n",
    "day_of_week = (day_of_week + 5) % 7\n",
    "\n",
    "print(\"   \" * day_of_week, end=\"\")\n",
    "\n",
    "for day in range(1, num_days + 1):\n",
    "    print(f\"{day:2d} \", end=\"\")\n",
    "    day_of_week = (day_of_week + 1) % 7\n",
    "\n",
    "    if day_of_week == 0:\n",
    "        print()\n",
    "\n",
    "if day_of_week != 0:\n",
    "    print()\n",
    "\n"
   ]
  },
  {
   "cell_type": "code",
   "execution_count": 31,
   "id": "161c9258-f6eb-47d2-beca-10be39c0b8ef",
   "metadata": {},
   "outputs": [
    {
     "name": "stdout",
     "output_type": "stream",
     "text": [
      "Player's hand: [{'rank': '3', 'suit': 'Diamonds'}, {'rank': 'Jack', 'suit': 'Clubs'}]\n",
      "Computer's hand: [{'rank': '7', 'suit': 'Hearts'}, 'Face down']\n",
      "Player's total: 13\n"
     ]
    },
    {
     "name": "stdin",
     "output_type": "stream",
     "text": [
      "Do you want to hit or stand?  hit\n"
     ]
    },
    {
     "name": "stdout",
     "output_type": "stream",
     "text": [
      "Player's hand: [{'rank': '3', 'suit': 'Diamonds'}, {'rank': 'Jack', 'suit': 'Clubs'}, {'rank': 'Queen', 'suit': 'Hearts'}]\n",
      "Player's total: 23\n"
     ]
    },
    {
     "name": "stdin",
     "output_type": "stream",
     "text": [
      "Do you want to hit or stand?  stand\n"
     ]
    },
    {
     "name": "stdout",
     "output_type": "stream",
     "text": [
      "\n",
      "Player's final hand: [{'rank': '3', 'suit': 'Diamonds'}, {'rank': 'Jack', 'suit': 'Clubs'}, {'rank': 'Queen', 'suit': 'Hearts'}]\n",
      "Computer's final hand: [{'rank': '7', 'suit': 'Hearts'}, {'rank': 'King', 'suit': 'Clubs'}]\n",
      "Computer wins!\n"
     ]
    }
   ],
   "source": [
    "# 39. Build a program that simulates a basic text-based blackjack game against the computer.\n",
    "import random\n",
    "\n",
    "suits = ['Hearts', 'Diamonds', 'Clubs', 'Spades']\n",
    "ranks = ['2', '3', '4', '5', '6', '7', '8', '9', '10', 'Jack', 'Queen', 'King', 'Ace']\n",
    "deck = [{'rank': rank, 'suit': suit} for rank in ranks for suit in suits]\n",
    "\n",
    "player_hand = [deck.pop(random.randint(0, len(deck)-1)), deck.pop(random.randint(0, len(deck)-1))]\n",
    "computer_hand = [deck.pop(random.randint(0, len(deck)-1)), deck.pop(random.randint(0, len(deck)-1))]\n",
    "\n",
    "print(\"Player's hand:\", player_hand)\n",
    "print(\"Computer's hand:\", [computer_hand[0], 'Face down'])\n",
    "\n",
    "while True:\n",
    "    player_total = sum(int(card['rank']) if card['rank'].isdigit() else 10 for card in player_hand)\n",
    "    print(f\"Player's total: {player_total}\")\n",
    "\n",
    "\n",
    "    if player_total == 21:\n",
    "        print(\"Player has a blackjack! Player wins!\")\n",
    "        break\n",
    "\n",
    "    choice = input(\"Do you want to hit or stand? \").lower()\n",
    "\n",
    "    if choice == 'hit':\n",
    "        player_hand.append(deck.pop(random.randint(0, len(deck)-1)))\n",
    "        print(\"Player's hand:\", player_hand)\n",
    "    elif choice == 'stand':\n",
    "        break\n",
    "    else:\n",
    "        print(\"Invalid choice. Please enter 'hit' or 'stand'.\")\n",
    "\n",
    "computer_total = sum(int(card['rank']) if card['rank'].isdigit() else 10 for card in computer_hand)\n",
    "while computer_total < 17:\n",
    "    computer_hand.append(deck.pop(random.randint(0, len(deck)-1)))\n",
    "    computer_total = sum(int(card['rank']) if card['rank'].isdigit() else 10 for card in computer_hand)\n",
    "\n",
    "print(\"\\nPlayer's final hand:\", player_hand)\n",
    "print(\"Computer's final hand:\", computer_hand)\n",
    "\n",
    "\n",
    "if player_total > 21 or (computer_total <= 21 and computer_total >= player_total):\n",
    "    print(\"Computer wins!\")\n",
    "elif computer_total > 21 or (player_total <= 21 and player_total > computer_total):\n",
    "    print(\"Player wins!\")\n",
    "else:\n",
    "    print(\"It's a tie!\")\n"
   ]
  },
  {
   "cell_type": "code",
   "execution_count": 32,
   "id": "43f64bbc-d4e7-46af-9cda-6cf882cfb7e1",
   "metadata": {},
   "outputs": [
    {
     "name": "stdin",
     "output_type": "stream",
     "text": [
      "Enter a number to find its prime factors:  15\n"
     ]
    },
    {
     "name": "stdout",
     "output_type": "stream",
     "text": [
      "The prime factors of the given number are: [3, 5]\n"
     ]
    }
   ],
   "source": [
    "# 40. Write a program that generates the prime factors of a given number using trial division.\n",
    "# Prime factorization using trial division\n",
    "\n",
    "num = int(input(\"Enter a number to find its prime factors: \"))\n",
    "prime_factors = []\n",
    "\n",
    "divisor = 2\n",
    "while num > 1:\n",
    "    while num % divisor == 0:\n",
    "        prime_factors.append(divisor)\n",
    "        num //= divisor\n",
    "    divisor += 1\n",
    "\n",
    "print(f\"The prime factors of the given number are: {prime_factors}\")\n"
   ]
  },
  {
   "cell_type": "code",
   "execution_count": null,
   "id": "a3e2d6cb-5a19-4962-807e-25b27e33f4e1",
   "metadata": {},
   "outputs": [],
   "source": []
  },
  {
   "cell_type": "code",
   "execution_count": null,
   "id": "56129f22-42b2-4a43-a561-46fe765a5eca",
   "metadata": {},
   "outputs": [],
   "source": []
  },
  {
   "cell_type": "code",
   "execution_count": null,
   "id": "1e99061b-572b-42b0-9680-1e82d7a63d1f",
   "metadata": {},
   "outputs": [],
   "source": []
  }
 ],
 "metadata": {
  "kernelspec": {
   "display_name": "Python 3 (ipykernel)",
   "language": "python",
   "name": "python3"
  },
  "language_info": {
   "codemirror_mode": {
    "name": "ipython",
    "version": 3
   },
   "file_extension": ".py",
   "mimetype": "text/x-python",
   "name": "python",
   "nbconvert_exporter": "python",
   "pygments_lexer": "ipython3",
   "version": "3.10.8"
  }
 },
 "nbformat": 4,
 "nbformat_minor": 5
}
